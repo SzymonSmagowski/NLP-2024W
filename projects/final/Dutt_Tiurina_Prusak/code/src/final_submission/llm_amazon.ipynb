{
 "cells": [
  {
   "cell_type": "code",
   "execution_count": 1,
   "metadata": {},
   "outputs": [],
   "source": [
    "import json\n",
    "import pandas as pd\n",
    "from tqdm import tqdm\n",
    "from langchain_community.llms import Ollama"
   ]
  },
  {
   "cell_type": "markdown",
   "metadata": {},
   "source": [
    "# Dataset"
   ]
  },
  {
   "cell_type": "code",
   "execution_count": 2,
   "metadata": {},
   "outputs": [],
   "source": [
    "def read_json_array(path):\n",
    "  data = []\n",
    "  with open(path, 'r') as file:\n",
    "    for line in file:\n",
    "      json_object = json.loads(line.strip())\n",
    "      data.append(json_object)\n",
    "  return data\n",
    "\n",
    "dataset_path = '../../datasets/amazon_reviews/'\n",
    "data_path = dataset_path + \"Musical_Instruments.json\"\n",
    "\n",
    "data = read_json_array(data_path)\n",
    "df = pd.DataFrame(data)"
   ]
  },
  {
   "cell_type": "code",
   "execution_count": 3,
   "metadata": {},
   "outputs": [],
   "source": [
    "amazon_reviews = pd.DataFrame()\n",
    "amazon_reviews['Reviews'] = df['reviewText'].copy()\n",
    "amazon_reviews['Ratings'] = df['overall'].copy()\n",
    "amazon_reviews = amazon_reviews.sample(n=10000, random_state=42).reset_index(drop=True)"
   ]
  },
  {
   "cell_type": "markdown",
   "metadata": {},
   "source": [
    "# Modeling"
   ]
  },
  {
   "cell_type": "code",
   "execution_count": 4,
   "metadata": {},
   "outputs": [
    {
     "name": "stderr",
     "output_type": "stream",
     "text": [
      "/var/folders/87/dhv__9sj0yv1kz0pfv2ds9nh0000gn/T/ipykernel_1875/2721138275.py:1: LangChainDeprecationWarning: The class `Ollama` was deprecated in LangChain 0.3.1 and will be removed in 1.0.0. An updated version of the class exists in the :class:`~langchain-ollama package and should be used instead. To use it run `pip install -U :class:`~langchain-ollama` and import as `from :class:`~langchain_ollama import OllamaLLM``.\n",
      "  llm = Ollama(model=\"gemma2\")\n"
     ]
    }
   ],
   "source": [
    "llm = Ollama(model=\"gemma2\")"
   ]
  },
  {
   "cell_type": "markdown",
   "metadata": {},
   "source": [
    "### Step 1 - Creating Topics for batches of dataset"
   ]
  },
  {
   "cell_type": "code",
   "execution_count": 37,
   "metadata": {},
   "outputs": [],
   "source": [
    "def generate_topics_in_batches(amazon_reviews, batch_size=100, llm=None):\n",
    "    \"\"\"\n",
    "    Generate topics from Amazon reviews in batches to handle large datasets.\n",
    "    \n",
    "    Parameters:\n",
    "    amazon_reviews (pd.DataFrame): DataFrame containing Amazon reviews\n",
    "    batch_size (int): Number of reviews to process in each batch\n",
    "    llm: The language model instance to use for generating topics\n",
    "    \n",
    "    Returns:\n",
    "    list: List of lists containing topics for each batch\n",
    "    \"\"\"\n",
    "    if llm is None:\n",
    "        raise ValueError(\"LLM instance must be provided\")\n",
    "    \n",
    "    all_batch_topics = []\n",
    "    total_reviews = len(amazon_reviews)\n",
    "    \n",
    "    # Process reviews in batches\n",
    "    for start_idx in tqdm(range(0, total_reviews, batch_size)):\n",
    "        end_idx = min(start_idx + batch_size, total_reviews)\n",
    "        batch_reviews = amazon_reviews.iloc[start_idx:end_idx]\n",
    "        \n",
    "        # Generate prompt for current batch\n",
    "        prompt_labels_generator = f'''You are provided with amazon reviews and helping to cluster the reviews based on the topics.\n",
    "Please create topics based on the reviews provided. Keep the topics general and not specific to the reviews. \n",
    "DO NOT include any specific details. NO TOPICS LIKE  DJ Equipment, Guitar, Piano, etc. Topics should be general and helpful for business steakholders to understand what people are thinking about the products,\n",
    "Amazon Reviews: {batch_reviews['Reviews'].tolist()}\n",
    "Please return only in CSV format with the following structure:\n",
    "Topic1, Topic2, Topic3, Topic4, Topic5,...\n",
    "Return only the topics in CSV format and nothing else.\n",
    "'''\n",
    "\n",
    "        # Get topics for current batch\n",
    "        result = llm.invoke(prompt_labels_generator, temperature=0.0)\n",
    "        \n",
    "        # Convert CSV string to list of topics\n",
    "        batch_topics = [topic.strip() for topic in result.split(',')]\n",
    "        all_batch_topics.append(batch_topics)\n",
    "        \n",
    "        print(f\"Processed batch {len(all_batch_topics)}: reviews {start_idx} to {end_idx}\")\n",
    "    \n",
    "    return all_batch_topics"
   ]
  },
  {
   "cell_type": "code",
   "execution_count": 38,
   "metadata": {},
   "outputs": [
    {
     "name": "stderr",
     "output_type": "stream",
     "text": [
      "  1%|          | 1/100 [00:04<08:06,  4.92s/it]"
     ]
    },
    {
     "name": "stdout",
     "output_type": "stream",
     "text": [
      "Processed batch 1: reviews 0 to 10\n"
     ]
    },
    {
     "name": "stderr",
     "output_type": "stream",
     "text": [
      "  2%|▏         | 2/100 [00:09<07:51,  4.81s/it]"
     ]
    },
    {
     "name": "stdout",
     "output_type": "stream",
     "text": [
      "Processed batch 2: reviews 10 to 20\n"
     ]
    },
    {
     "name": "stderr",
     "output_type": "stream",
     "text": [
      "  3%|▎         | 3/100 [00:13<07:23,  4.57s/it]"
     ]
    },
    {
     "name": "stdout",
     "output_type": "stream",
     "text": [
      "Processed batch 3: reviews 20 to 30\n"
     ]
    },
    {
     "name": "stderr",
     "output_type": "stream",
     "text": [
      "  4%|▍         | 4/100 [00:19<08:05,  5.05s/it]"
     ]
    },
    {
     "name": "stdout",
     "output_type": "stream",
     "text": [
      "Processed batch 4: reviews 30 to 40\n"
     ]
    },
    {
     "name": "stderr",
     "output_type": "stream",
     "text": [
      "  5%|▌         | 5/100 [00:23<07:03,  4.46s/it]"
     ]
    },
    {
     "name": "stdout",
     "output_type": "stream",
     "text": [
      "Processed batch 5: reviews 40 to 50\n"
     ]
    },
    {
     "name": "stderr",
     "output_type": "stream",
     "text": [
      "  6%|▌         | 6/100 [00:25<05:58,  3.81s/it]"
     ]
    },
    {
     "name": "stdout",
     "output_type": "stream",
     "text": [
      "Processed batch 6: reviews 50 to 60\n"
     ]
    },
    {
     "name": "stderr",
     "output_type": "stream",
     "text": [
      "  7%|▋         | 7/100 [00:28<05:15,  3.39s/it]"
     ]
    },
    {
     "name": "stdout",
     "output_type": "stream",
     "text": [
      "Processed batch 7: reviews 60 to 70\n"
     ]
    },
    {
     "name": "stderr",
     "output_type": "stream",
     "text": [
      "  8%|▊         | 8/100 [00:30<04:44,  3.09s/it]"
     ]
    },
    {
     "name": "stdout",
     "output_type": "stream",
     "text": [
      "Processed batch 8: reviews 70 to 80\n"
     ]
    },
    {
     "name": "stderr",
     "output_type": "stream",
     "text": [
      "  9%|▉         | 9/100 [00:34<05:16,  3.48s/it]"
     ]
    },
    {
     "name": "stdout",
     "output_type": "stream",
     "text": [
      "Processed batch 9: reviews 80 to 90\n"
     ]
    },
    {
     "name": "stderr",
     "output_type": "stream",
     "text": [
      " 10%|█         | 10/100 [00:39<05:37,  3.75s/it]"
     ]
    },
    {
     "name": "stdout",
     "output_type": "stream",
     "text": [
      "Processed batch 10: reviews 90 to 100\n"
     ]
    },
    {
     "name": "stderr",
     "output_type": "stream",
     "text": [
      " 11%|█         | 11/100 [00:43<05:41,  3.83s/it]"
     ]
    },
    {
     "name": "stdout",
     "output_type": "stream",
     "text": [
      "Processed batch 11: reviews 100 to 110\n"
     ]
    },
    {
     "name": "stderr",
     "output_type": "stream",
     "text": [
      " 12%|█▏        | 12/100 [00:46<05:14,  3.57s/it]"
     ]
    },
    {
     "name": "stdout",
     "output_type": "stream",
     "text": [
      "Processed batch 12: reviews 110 to 120\n"
     ]
    },
    {
     "name": "stderr",
     "output_type": "stream",
     "text": [
      " 13%|█▎        | 13/100 [00:49<05:00,  3.46s/it]"
     ]
    },
    {
     "name": "stdout",
     "output_type": "stream",
     "text": [
      "Processed batch 13: reviews 120 to 130\n"
     ]
    },
    {
     "name": "stderr",
     "output_type": "stream",
     "text": [
      " 14%|█▍        | 14/100 [00:52<04:43,  3.30s/it]"
     ]
    },
    {
     "name": "stdout",
     "output_type": "stream",
     "text": [
      "Processed batch 14: reviews 130 to 140\n"
     ]
    },
    {
     "name": "stderr",
     "output_type": "stream",
     "text": [
      " 15%|█▌        | 15/100 [00:57<05:28,  3.87s/it]"
     ]
    },
    {
     "name": "stdout",
     "output_type": "stream",
     "text": [
      "Processed batch 15: reviews 140 to 150\n"
     ]
    },
    {
     "name": "stderr",
     "output_type": "stream",
     "text": [
      " 16%|█▌        | 16/100 [01:03<06:02,  4.32s/it]"
     ]
    },
    {
     "name": "stdout",
     "output_type": "stream",
     "text": [
      "Processed batch 16: reviews 150 to 160\n"
     ]
    },
    {
     "name": "stderr",
     "output_type": "stream",
     "text": [
      " 17%|█▋        | 17/100 [01:08<06:21,  4.59s/it]"
     ]
    },
    {
     "name": "stdout",
     "output_type": "stream",
     "text": [
      "Processed batch 17: reviews 160 to 170\n"
     ]
    },
    {
     "name": "stderr",
     "output_type": "stream",
     "text": [
      " 18%|█▊        | 18/100 [01:11<05:32,  4.06s/it]"
     ]
    },
    {
     "name": "stdout",
     "output_type": "stream",
     "text": [
      "Processed batch 18: reviews 170 to 180\n"
     ]
    },
    {
     "name": "stderr",
     "output_type": "stream",
     "text": [
      " 19%|█▉        | 19/100 [01:18<06:44,  4.99s/it]"
     ]
    },
    {
     "name": "stdout",
     "output_type": "stream",
     "text": [
      "Processed batch 19: reviews 180 to 190\n"
     ]
    },
    {
     "name": "stderr",
     "output_type": "stream",
     "text": [
      " 20%|██        | 20/100 [01:20<05:42,  4.29s/it]"
     ]
    },
    {
     "name": "stdout",
     "output_type": "stream",
     "text": [
      "Processed batch 20: reviews 190 to 200\n"
     ]
    },
    {
     "name": "stderr",
     "output_type": "stream",
     "text": [
      " 21%|██        | 21/100 [01:24<05:20,  4.06s/it]"
     ]
    },
    {
     "name": "stdout",
     "output_type": "stream",
     "text": [
      "Processed batch 21: reviews 200 to 210\n"
     ]
    },
    {
     "name": "stderr",
     "output_type": "stream",
     "text": [
      " 22%|██▏       | 22/100 [01:27<04:46,  3.67s/it]"
     ]
    },
    {
     "name": "stdout",
     "output_type": "stream",
     "text": [
      "Processed batch 22: reviews 210 to 220\n"
     ]
    },
    {
     "name": "stderr",
     "output_type": "stream",
     "text": [
      " 23%|██▎       | 23/100 [01:31<04:53,  3.81s/it]"
     ]
    },
    {
     "name": "stdout",
     "output_type": "stream",
     "text": [
      "Processed batch 23: reviews 220 to 230\n"
     ]
    },
    {
     "name": "stderr",
     "output_type": "stream",
     "text": [
      " 24%|██▍       | 24/100 [01:34<04:27,  3.51s/it]"
     ]
    },
    {
     "name": "stdout",
     "output_type": "stream",
     "text": [
      "Processed batch 24: reviews 230 to 240\n"
     ]
    },
    {
     "name": "stderr",
     "output_type": "stream",
     "text": [
      " 25%|██▌       | 25/100 [01:40<05:27,  4.37s/it]"
     ]
    },
    {
     "name": "stdout",
     "output_type": "stream",
     "text": [
      "Processed batch 25: reviews 240 to 250\n"
     ]
    },
    {
     "name": "stderr",
     "output_type": "stream",
     "text": [
      " 26%|██▌       | 26/100 [01:47<06:24,  5.19s/it]"
     ]
    },
    {
     "name": "stdout",
     "output_type": "stream",
     "text": [
      "Processed batch 26: reviews 250 to 260\n"
     ]
    },
    {
     "name": "stderr",
     "output_type": "stream",
     "text": [
      " 27%|██▋       | 27/100 [01:50<05:27,  4.48s/it]"
     ]
    },
    {
     "name": "stdout",
     "output_type": "stream",
     "text": [
      "Processed batch 27: reviews 260 to 270\n"
     ]
    },
    {
     "name": "stderr",
     "output_type": "stream",
     "text": [
      " 28%|██▊       | 28/100 [01:54<05:24,  4.50s/it]"
     ]
    },
    {
     "name": "stdout",
     "output_type": "stream",
     "text": [
      "Processed batch 28: reviews 270 to 280\n"
     ]
    },
    {
     "name": "stderr",
     "output_type": "stream",
     "text": [
      " 29%|██▉       | 29/100 [01:59<05:10,  4.38s/it]"
     ]
    },
    {
     "name": "stdout",
     "output_type": "stream",
     "text": [
      "Processed batch 29: reviews 280 to 290\n"
     ]
    },
    {
     "name": "stderr",
     "output_type": "stream",
     "text": [
      " 30%|███       | 30/100 [02:03<05:12,  4.46s/it]"
     ]
    },
    {
     "name": "stdout",
     "output_type": "stream",
     "text": [
      "Processed batch 30: reviews 290 to 300\n"
     ]
    },
    {
     "name": "stderr",
     "output_type": "stream",
     "text": [
      " 31%|███       | 31/100 [02:06<04:31,  3.94s/it]"
     ]
    },
    {
     "name": "stdout",
     "output_type": "stream",
     "text": [
      "Processed batch 31: reviews 300 to 310\n"
     ]
    },
    {
     "name": "stderr",
     "output_type": "stream",
     "text": [
      " 32%|███▏      | 32/100 [02:09<04:13,  3.73s/it]"
     ]
    },
    {
     "name": "stdout",
     "output_type": "stream",
     "text": [
      "Processed batch 32: reviews 310 to 320\n"
     ]
    },
    {
     "name": "stderr",
     "output_type": "stream",
     "text": [
      " 33%|███▎      | 33/100 [02:13<04:13,  3.78s/it]"
     ]
    },
    {
     "name": "stdout",
     "output_type": "stream",
     "text": [
      "Processed batch 33: reviews 320 to 330\n"
     ]
    },
    {
     "name": "stderr",
     "output_type": "stream",
     "text": [
      " 34%|███▍      | 34/100 [02:15<03:32,  3.22s/it]"
     ]
    },
    {
     "name": "stdout",
     "output_type": "stream",
     "text": [
      "Processed batch 34: reviews 330 to 340\n"
     ]
    },
    {
     "name": "stderr",
     "output_type": "stream",
     "text": [
      " 35%|███▌      | 35/100 [02:19<03:39,  3.38s/it]"
     ]
    },
    {
     "name": "stdout",
     "output_type": "stream",
     "text": [
      "Processed batch 35: reviews 340 to 350\n"
     ]
    },
    {
     "name": "stderr",
     "output_type": "stream",
     "text": [
      " 36%|███▌      | 36/100 [02:22<03:32,  3.32s/it]"
     ]
    },
    {
     "name": "stdout",
     "output_type": "stream",
     "text": [
      "Processed batch 36: reviews 350 to 360\n"
     ]
    },
    {
     "name": "stderr",
     "output_type": "stream",
     "text": [
      " 37%|███▋      | 37/100 [02:27<03:55,  3.75s/it]"
     ]
    },
    {
     "name": "stdout",
     "output_type": "stream",
     "text": [
      "Processed batch 37: reviews 360 to 370\n"
     ]
    },
    {
     "name": "stderr",
     "output_type": "stream",
     "text": [
      " 38%|███▊      | 38/100 [02:31<03:59,  3.86s/it]"
     ]
    },
    {
     "name": "stdout",
     "output_type": "stream",
     "text": [
      "Processed batch 38: reviews 370 to 380\n"
     ]
    },
    {
     "name": "stderr",
     "output_type": "stream",
     "text": [
      " 39%|███▉      | 39/100 [02:37<04:34,  4.50s/it]"
     ]
    },
    {
     "name": "stdout",
     "output_type": "stream",
     "text": [
      "Processed batch 39: reviews 380 to 390\n"
     ]
    },
    {
     "name": "stderr",
     "output_type": "stream",
     "text": [
      " 40%|████      | 40/100 [02:45<05:30,  5.52s/it]"
     ]
    },
    {
     "name": "stdout",
     "output_type": "stream",
     "text": [
      "Processed batch 40: reviews 390 to 400\n"
     ]
    },
    {
     "name": "stderr",
     "output_type": "stream",
     "text": [
      " 41%|████      | 41/100 [02:49<05:11,  5.28s/it]"
     ]
    },
    {
     "name": "stdout",
     "output_type": "stream",
     "text": [
      "Processed batch 41: reviews 400 to 410\n"
     ]
    },
    {
     "name": "stderr",
     "output_type": "stream",
     "text": [
      " 42%|████▏     | 42/100 [02:54<04:45,  4.93s/it]"
     ]
    },
    {
     "name": "stdout",
     "output_type": "stream",
     "text": [
      "Processed batch 42: reviews 410 to 420\n"
     ]
    },
    {
     "name": "stderr",
     "output_type": "stream",
     "text": [
      " 43%|████▎     | 43/100 [02:58<04:29,  4.73s/it]"
     ]
    },
    {
     "name": "stdout",
     "output_type": "stream",
     "text": [
      "Processed batch 43: reviews 420 to 430\n"
     ]
    },
    {
     "name": "stderr",
     "output_type": "stream",
     "text": [
      " 44%|████▍     | 44/100 [03:00<03:50,  4.12s/it]"
     ]
    },
    {
     "name": "stdout",
     "output_type": "stream",
     "text": [
      "Processed batch 44: reviews 430 to 440\n"
     ]
    },
    {
     "name": "stderr",
     "output_type": "stream",
     "text": [
      " 45%|████▌     | 45/100 [03:05<03:58,  4.34s/it]"
     ]
    },
    {
     "name": "stdout",
     "output_type": "stream",
     "text": [
      "Processed batch 45: reviews 440 to 450\n"
     ]
    },
    {
     "name": "stderr",
     "output_type": "stream",
     "text": [
      " 46%|████▌     | 46/100 [03:07<03:09,  3.51s/it]"
     ]
    },
    {
     "name": "stdout",
     "output_type": "stream",
     "text": [
      "Processed batch 46: reviews 450 to 460\n"
     ]
    },
    {
     "name": "stderr",
     "output_type": "stream",
     "text": [
      " 47%|████▋     | 47/100 [03:18<05:05,  5.77s/it]"
     ]
    },
    {
     "name": "stdout",
     "output_type": "stream",
     "text": [
      "Processed batch 47: reviews 460 to 470\n"
     ]
    },
    {
     "name": "stderr",
     "output_type": "stream",
     "text": [
      " 48%|████▊     | 48/100 [03:24<05:07,  5.91s/it]"
     ]
    },
    {
     "name": "stdout",
     "output_type": "stream",
     "text": [
      "Processed batch 48: reviews 470 to 480\n"
     ]
    },
    {
     "name": "stderr",
     "output_type": "stream",
     "text": [
      " 49%|████▉     | 49/100 [03:29<04:37,  5.44s/it]"
     ]
    },
    {
     "name": "stdout",
     "output_type": "stream",
     "text": [
      "Processed batch 49: reviews 480 to 490\n"
     ]
    },
    {
     "name": "stderr",
     "output_type": "stream",
     "text": [
      " 50%|█████     | 50/100 [03:33<04:24,  5.29s/it]"
     ]
    },
    {
     "name": "stdout",
     "output_type": "stream",
     "text": [
      "Processed batch 50: reviews 490 to 500\n"
     ]
    },
    {
     "name": "stderr",
     "output_type": "stream",
     "text": [
      " 51%|█████     | 51/100 [03:36<03:45,  4.60s/it]"
     ]
    },
    {
     "name": "stdout",
     "output_type": "stream",
     "text": [
      "Processed batch 51: reviews 500 to 510\n"
     ]
    },
    {
     "name": "stderr",
     "output_type": "stream",
     "text": [
      " 52%|█████▏    | 52/100 [03:40<03:21,  4.21s/it]"
     ]
    },
    {
     "name": "stdout",
     "output_type": "stream",
     "text": [
      "Processed batch 52: reviews 510 to 520\n"
     ]
    },
    {
     "name": "stderr",
     "output_type": "stream",
     "text": [
      " 53%|█████▎    | 53/100 [03:43<02:57,  3.78s/it]"
     ]
    },
    {
     "name": "stdout",
     "output_type": "stream",
     "text": [
      "Processed batch 53: reviews 520 to 530\n"
     ]
    },
    {
     "name": "stderr",
     "output_type": "stream",
     "text": [
      " 54%|█████▍    | 54/100 [03:50<03:39,  4.76s/it]"
     ]
    },
    {
     "name": "stdout",
     "output_type": "stream",
     "text": [
      "Processed batch 54: reviews 530 to 540\n"
     ]
    },
    {
     "name": "stderr",
     "output_type": "stream",
     "text": [
      " 55%|█████▌    | 55/100 [03:54<03:35,  4.78s/it]"
     ]
    },
    {
     "name": "stdout",
     "output_type": "stream",
     "text": [
      "Processed batch 55: reviews 540 to 550\n"
     ]
    },
    {
     "name": "stderr",
     "output_type": "stream",
     "text": [
      " 56%|█████▌    | 56/100 [03:59<03:30,  4.77s/it]"
     ]
    },
    {
     "name": "stdout",
     "output_type": "stream",
     "text": [
      "Processed batch 56: reviews 550 to 560\n"
     ]
    },
    {
     "name": "stderr",
     "output_type": "stream",
     "text": [
      " 57%|█████▋    | 57/100 [04:03<03:12,  4.48s/it]"
     ]
    },
    {
     "name": "stdout",
     "output_type": "stream",
     "text": [
      "Processed batch 57: reviews 560 to 570\n"
     ]
    },
    {
     "name": "stderr",
     "output_type": "stream",
     "text": [
      " 58%|█████▊    | 58/100 [04:05<02:43,  3.89s/it]"
     ]
    },
    {
     "name": "stdout",
     "output_type": "stream",
     "text": [
      "Processed batch 58: reviews 570 to 580\n"
     ]
    },
    {
     "name": "stderr",
     "output_type": "stream",
     "text": [
      " 59%|█████▉    | 59/100 [04:11<02:56,  4.29s/it]"
     ]
    },
    {
     "name": "stdout",
     "output_type": "stream",
     "text": [
      "Processed batch 59: reviews 580 to 590\n"
     ]
    },
    {
     "name": "stderr",
     "output_type": "stream",
     "text": [
      " 60%|██████    | 60/100 [04:15<02:46,  4.15s/it]"
     ]
    },
    {
     "name": "stdout",
     "output_type": "stream",
     "text": [
      "Processed batch 60: reviews 590 to 600\n"
     ]
    },
    {
     "name": "stderr",
     "output_type": "stream",
     "text": [
      " 61%|██████    | 61/100 [04:17<02:17,  3.54s/it]"
     ]
    },
    {
     "name": "stdout",
     "output_type": "stream",
     "text": [
      "Processed batch 61: reviews 600 to 610\n"
     ]
    },
    {
     "name": "stderr",
     "output_type": "stream",
     "text": [
      " 62%|██████▏   | 62/100 [04:20<02:16,  3.61s/it]"
     ]
    },
    {
     "name": "stdout",
     "output_type": "stream",
     "text": [
      "Processed batch 62: reviews 610 to 620\n"
     ]
    },
    {
     "name": "stderr",
     "output_type": "stream",
     "text": [
      " 63%|██████▎   | 63/100 [04:25<02:19,  3.76s/it]"
     ]
    },
    {
     "name": "stdout",
     "output_type": "stream",
     "text": [
      "Processed batch 63: reviews 620 to 630\n"
     ]
    },
    {
     "name": "stderr",
     "output_type": "stream",
     "text": [
      " 64%|██████▍   | 64/100 [04:33<03:02,  5.08s/it]"
     ]
    },
    {
     "name": "stdout",
     "output_type": "stream",
     "text": [
      "Processed batch 64: reviews 630 to 640\n"
     ]
    },
    {
     "name": "stderr",
     "output_type": "stream",
     "text": [
      " 65%|██████▌   | 65/100 [04:36<02:36,  4.48s/it]"
     ]
    },
    {
     "name": "stdout",
     "output_type": "stream",
     "text": [
      "Processed batch 65: reviews 640 to 650\n"
     ]
    },
    {
     "name": "stderr",
     "output_type": "stream",
     "text": [
      " 66%|██████▌   | 66/100 [04:47<03:38,  6.42s/it]"
     ]
    },
    {
     "name": "stdout",
     "output_type": "stream",
     "text": [
      "Processed batch 66: reviews 650 to 660\n"
     ]
    },
    {
     "name": "stderr",
     "output_type": "stream",
     "text": [
      " 67%|██████▋   | 67/100 [04:50<03:05,  5.62s/it]"
     ]
    },
    {
     "name": "stdout",
     "output_type": "stream",
     "text": [
      "Processed batch 67: reviews 660 to 670\n"
     ]
    },
    {
     "name": "stderr",
     "output_type": "stream",
     "text": [
      " 68%|██████▊   | 68/100 [04:54<02:41,  5.06s/it]"
     ]
    },
    {
     "name": "stdout",
     "output_type": "stream",
     "text": [
      "Processed batch 68: reviews 670 to 680\n"
     ]
    },
    {
     "name": "stderr",
     "output_type": "stream",
     "text": [
      " 69%|██████▉   | 69/100 [04:58<02:23,  4.64s/it]"
     ]
    },
    {
     "name": "stdout",
     "output_type": "stream",
     "text": [
      "Processed batch 69: reviews 680 to 690\n"
     ]
    },
    {
     "name": "stderr",
     "output_type": "stream",
     "text": [
      " 70%|███████   | 70/100 [05:02<02:15,  4.51s/it]"
     ]
    },
    {
     "name": "stdout",
     "output_type": "stream",
     "text": [
      "Processed batch 70: reviews 690 to 700\n"
     ]
    },
    {
     "name": "stderr",
     "output_type": "stream",
     "text": [
      " 71%|███████   | 71/100 [05:07<02:14,  4.64s/it]"
     ]
    },
    {
     "name": "stdout",
     "output_type": "stream",
     "text": [
      "Processed batch 71: reviews 700 to 710\n"
     ]
    },
    {
     "name": "stderr",
     "output_type": "stream",
     "text": [
      " 72%|███████▏  | 72/100 [05:13<02:17,  4.90s/it]"
     ]
    },
    {
     "name": "stdout",
     "output_type": "stream",
     "text": [
      "Processed batch 72: reviews 710 to 720\n"
     ]
    },
    {
     "name": "stderr",
     "output_type": "stream",
     "text": [
      " 73%|███████▎  | 73/100 [05:15<01:50,  4.08s/it]"
     ]
    },
    {
     "name": "stdout",
     "output_type": "stream",
     "text": [
      "Processed batch 73: reviews 720 to 730\n"
     ]
    },
    {
     "name": "stderr",
     "output_type": "stream",
     "text": [
      " 74%|███████▍  | 74/100 [05:17<01:28,  3.42s/it]"
     ]
    },
    {
     "name": "stdout",
     "output_type": "stream",
     "text": [
      "Processed batch 74: reviews 730 to 740\n"
     ]
    },
    {
     "name": "stderr",
     "output_type": "stream",
     "text": [
      " 75%|███████▌  | 75/100 [05:20<01:28,  3.53s/it]"
     ]
    },
    {
     "name": "stdout",
     "output_type": "stream",
     "text": [
      "Processed batch 75: reviews 740 to 750\n"
     ]
    },
    {
     "name": "stderr",
     "output_type": "stream",
     "text": [
      " 76%|███████▌  | 76/100 [05:22<01:13,  3.07s/it]"
     ]
    },
    {
     "name": "stdout",
     "output_type": "stream",
     "text": [
      "Processed batch 76: reviews 750 to 760\n"
     ]
    },
    {
     "name": "stderr",
     "output_type": "stream",
     "text": [
      " 77%|███████▋  | 77/100 [05:29<01:34,  4.12s/it]"
     ]
    },
    {
     "name": "stdout",
     "output_type": "stream",
     "text": [
      "Processed batch 77: reviews 760 to 770\n"
     ]
    },
    {
     "name": "stderr",
     "output_type": "stream",
     "text": [
      " 78%|███████▊  | 78/100 [05:33<01:31,  4.17s/it]"
     ]
    },
    {
     "name": "stdout",
     "output_type": "stream",
     "text": [
      "Processed batch 78: reviews 770 to 780\n"
     ]
    },
    {
     "name": "stderr",
     "output_type": "stream",
     "text": [
      " 79%|███████▉  | 79/100 [05:36<01:19,  3.79s/it]"
     ]
    },
    {
     "name": "stdout",
     "output_type": "stream",
     "text": [
      "Processed batch 79: reviews 780 to 790\n"
     ]
    },
    {
     "name": "stderr",
     "output_type": "stream",
     "text": [
      " 80%|████████  | 80/100 [05:39<01:09,  3.47s/it]"
     ]
    },
    {
     "name": "stdout",
     "output_type": "stream",
     "text": [
      "Processed batch 80: reviews 790 to 800\n"
     ]
    },
    {
     "name": "stderr",
     "output_type": "stream",
     "text": [
      " 81%|████████  | 81/100 [05:41<01:01,  3.23s/it]"
     ]
    },
    {
     "name": "stdout",
     "output_type": "stream",
     "text": [
      "Processed batch 81: reviews 800 to 810\n"
     ]
    },
    {
     "name": "stderr",
     "output_type": "stream",
     "text": [
      " 82%|████████▏ | 82/100 [05:45<00:57,  3.19s/it]"
     ]
    },
    {
     "name": "stdout",
     "output_type": "stream",
     "text": [
      "Processed batch 82: reviews 810 to 820\n"
     ]
    },
    {
     "name": "stderr",
     "output_type": "stream",
     "text": [
      " 83%|████████▎ | 83/100 [05:48<00:56,  3.31s/it]"
     ]
    },
    {
     "name": "stdout",
     "output_type": "stream",
     "text": [
      "Processed batch 83: reviews 820 to 830\n"
     ]
    },
    {
     "name": "stderr",
     "output_type": "stream",
     "text": [
      " 84%|████████▍ | 84/100 [05:51<00:52,  3.26s/it]"
     ]
    },
    {
     "name": "stdout",
     "output_type": "stream",
     "text": [
      "Processed batch 84: reviews 830 to 840\n"
     ]
    },
    {
     "name": "stderr",
     "output_type": "stream",
     "text": [
      " 85%|████████▌ | 85/100 [05:55<00:49,  3.31s/it]"
     ]
    },
    {
     "name": "stdout",
     "output_type": "stream",
     "text": [
      "Processed batch 85: reviews 840 to 850\n"
     ]
    },
    {
     "name": "stderr",
     "output_type": "stream",
     "text": [
      " 86%|████████▌ | 86/100 [06:00<00:52,  3.75s/it]"
     ]
    },
    {
     "name": "stdout",
     "output_type": "stream",
     "text": [
      "Processed batch 86: reviews 850 to 860\n"
     ]
    },
    {
     "name": "stderr",
     "output_type": "stream",
     "text": [
      " 87%|████████▋ | 87/100 [06:04<00:49,  3.83s/it]"
     ]
    },
    {
     "name": "stdout",
     "output_type": "stream",
     "text": [
      "Processed batch 87: reviews 860 to 870\n"
     ]
    },
    {
     "name": "stderr",
     "output_type": "stream",
     "text": [
      " 88%|████████▊ | 88/100 [06:11<01:00,  5.00s/it]"
     ]
    },
    {
     "name": "stdout",
     "output_type": "stream",
     "text": [
      "Processed batch 88: reviews 870 to 880\n"
     ]
    },
    {
     "name": "stderr",
     "output_type": "stream",
     "text": [
      " 89%|████████▉ | 89/100 [06:19<01:05,  5.96s/it]"
     ]
    },
    {
     "name": "stdout",
     "output_type": "stream",
     "text": [
      "Processed batch 89: reviews 880 to 890\n"
     ]
    },
    {
     "name": "stderr",
     "output_type": "stream",
     "text": [
      " 90%|█████████ | 90/100 [06:23<00:52,  5.29s/it]"
     ]
    },
    {
     "name": "stdout",
     "output_type": "stream",
     "text": [
      "Processed batch 90: reviews 890 to 900\n"
     ]
    },
    {
     "name": "stderr",
     "output_type": "stream",
     "text": [
      " 91%|█████████ | 91/100 [06:26<00:40,  4.49s/it]"
     ]
    },
    {
     "name": "stdout",
     "output_type": "stream",
     "text": [
      "Processed batch 91: reviews 900 to 910\n"
     ]
    },
    {
     "name": "stderr",
     "output_type": "stream",
     "text": [
      " 92%|█████████▏| 92/100 [06:30<00:34,  4.29s/it]"
     ]
    },
    {
     "name": "stdout",
     "output_type": "stream",
     "text": [
      "Processed batch 92: reviews 910 to 920\n"
     ]
    },
    {
     "name": "stderr",
     "output_type": "stream",
     "text": [
      " 93%|█████████▎| 93/100 [06:36<00:33,  4.78s/it]"
     ]
    },
    {
     "name": "stdout",
     "output_type": "stream",
     "text": [
      "Processed batch 93: reviews 920 to 930\n"
     ]
    },
    {
     "name": "stderr",
     "output_type": "stream",
     "text": [
      " 94%|█████████▍| 94/100 [06:38<00:24,  4.02s/it]"
     ]
    },
    {
     "name": "stdout",
     "output_type": "stream",
     "text": [
      "Processed batch 94: reviews 930 to 940\n"
     ]
    },
    {
     "name": "stderr",
     "output_type": "stream",
     "text": [
      " 95%|█████████▌| 95/100 [06:41<00:19,  3.80s/it]"
     ]
    },
    {
     "name": "stdout",
     "output_type": "stream",
     "text": [
      "Processed batch 95: reviews 940 to 950\n"
     ]
    },
    {
     "name": "stderr",
     "output_type": "stream",
     "text": [
      " 96%|█████████▌| 96/100 [06:47<00:17,  4.31s/it]"
     ]
    },
    {
     "name": "stdout",
     "output_type": "stream",
     "text": [
      "Processed batch 96: reviews 950 to 960\n"
     ]
    },
    {
     "name": "stderr",
     "output_type": "stream",
     "text": [
      " 97%|█████████▋| 97/100 [06:51<00:13,  4.44s/it]"
     ]
    },
    {
     "name": "stdout",
     "output_type": "stream",
     "text": [
      "Processed batch 97: reviews 960 to 970\n"
     ]
    },
    {
     "name": "stderr",
     "output_type": "stream",
     "text": [
      " 98%|█████████▊| 98/100 [06:55<00:08,  4.30s/it]"
     ]
    },
    {
     "name": "stdout",
     "output_type": "stream",
     "text": [
      "Processed batch 98: reviews 970 to 980\n"
     ]
    },
    {
     "name": "stderr",
     "output_type": "stream",
     "text": [
      " 99%|█████████▉| 99/100 [06:57<00:03,  3.62s/it]"
     ]
    },
    {
     "name": "stdout",
     "output_type": "stream",
     "text": [
      "Processed batch 99: reviews 980 to 990\n"
     ]
    },
    {
     "name": "stderr",
     "output_type": "stream",
     "text": [
      "100%|██████████| 100/100 [07:01<00:00,  4.21s/it]"
     ]
    },
    {
     "name": "stdout",
     "output_type": "stream",
     "text": [
      "Processed batch 100: reviews 990 to 1000\n"
     ]
    },
    {
     "name": "stderr",
     "output_type": "stream",
     "text": [
      "\n"
     ]
    }
   ],
   "source": [
    "topics_by_batch = generate_topics_in_batches(amazon_reviews.sample(1000, random_state=42), batch_size=10, llm=llm)"
   ]
  },
  {
   "cell_type": "code",
   "execution_count": 39,
   "metadata": {},
   "outputs": [],
   "source": [
    "all_unique_topics = list(set([topic for batch in topics_by_batch for topic in batch]))"
   ]
  },
  {
   "cell_type": "code",
   "execution_count": 41,
   "metadata": {},
   "outputs": [
    {
     "data": {
      "text/plain": [
       "['Technical Aspects',\n",
       " 'User Experience',\n",
       " 'Sound & Performance',\n",
       " 'Guitar Straps',\n",
       " 'Sound/Performance',\n",
       " 'Aesthetics',\n",
       " 'Guitar Effects Pedals',\n",
       " 'Impedance Matching',\n",
       " 'Customer Experience',\n",
       " 'Product Durability',\n",
       " 'Performance & Functionality',\n",
       " 'Price Value',\n",
       " 'Durability & Performance',\n",
       " 'Features',\n",
       " 'Value',\n",
       " 'Comfort',\n",
       " 'Shipping & Delivery',\n",
       " 'Microphone Sensitivity',\n",
       " 'Quality',\n",
       " 'Learning Curve',\n",
       " 'Size',\n",
       " 'Usage Experience',\n",
       " 'Vocal Harmonizers',\n",
       " 'Product Quality',\n",
       " 'Size & Portability',\n",
       " 'Value for Money',\n",
       " 'Price',\n",
       " 'Performance Issues',\n",
       " 'Guitar Amplifiers',\n",
       " 'Usage',\n",
       " 'Aesthetics & Comfort',\n",
       " 'Performance',\n",
       " 'Delivery Experience',\n",
       " 'Customer Satisfaction',\n",
       " 'Installation & Setup',\n",
       " 'Target Audience',\n",
       " 'Comfort/Design',\n",
       " 'Fit & Functionality',\n",
       " 'Brand Perception',\n",
       " 'Experience',\n",
       " 'Cello Pickup Installation',\n",
       " 'Shipping Experience',\n",
       " 'Compatibility',\n",
       " 'Customer Service',\n",
       " 'Product Performance',\n",
       " 'Usability',\n",
       " 'Quality & Durability',\n",
       " 'Performance Quality',\n",
       " 'Shipping & Packaging',\n",
       " 'Customer Support',\n",
       " 'Product Value',\n",
       " 'Guitar Pickups',\n",
       " 'Durability',\n",
       " 'Aesthetics & Design',\n",
       " 'Microphones',\n",
       " 'Microphone Performance',\n",
       " 'Product Functionality',\n",
       " 'Functionality & Usability',\n",
       " 'Functionality',\n",
       " 'Size & Fit',\n",
       " 'Sound',\n",
       " 'Sound Quality',\n",
       " 'Versatility',\n",
       " 'Age Appropriateness',\n",
       " 'Design & Aesthetics',\n",
       " 'Emotional Response',\n",
       " 'Product Aesthetics',\n",
       " 'Portability',\n",
       " 'Ease of Use',\n",
       " 'Gift Giving',\n",
       " 'Packaging & Shipping']"
      ]
     },
     "execution_count": 41,
     "metadata": {},
     "output_type": "execute_result"
    }
   ],
   "source": [
    "all_unique_topics"
   ]
  },
  {
   "cell_type": "markdown",
   "metadata": {},
   "source": [
    "### Step 2 - Combining all topics to a smaller more general subset"
   ]
  },
  {
   "cell_type": "code",
   "execution_count": 40,
   "metadata": {},
   "outputs": [],
   "source": [
    "prompt_merge_topics = f'''You are provided with topics generated from Amazon reviews.\n",
    "Please merge the topics into a smaller number of topics. The topics should be VERY GENERAL and NOT specific. Do not output more than 15 topics. \n",
    "Merge/combine topics that are similar or related.\n",
    "Topics: {all_unique_topics}\n",
    "Please return only in CSV format with the following structure:\n",
    "MergedTopic1, MergedTopic2, MergedTopic3, MergedTopic4, MergedTopic5,...\n",
    "Return only the merged topics in CSV format and nothing else.\n",
    "'''\n",
    "\n",
    "# Get merged topics\n",
    "proper_topics_str = llm.invoke(prompt_merge_topics, temperature=0.0)"
   ]
  },
  {
   "cell_type": "code",
   "execution_count": 43,
   "metadata": {},
   "outputs": [
    {
     "name": "stdout",
     "output_type": "stream",
     "text": [
      "['Technical Aspects', 'User Experience', 'Sound & Performance', 'Aesthetics', 'Durability', 'Price & Value', 'Customer Experience', 'Size & Portability', 'Functionality & Usability', 'Shipping & Delivery', 'Brand Perception', 'Product Quality', 'Comfort & Design', 'Learning Curve', 'Target Audience', 'Usage Experience', 'Gift Giving', 'Emotional Response', 'Compatibility', 'Customer Service']\n"
     ]
    }
   ],
   "source": [
    "proper_topics = [topic.strip() for topic in proper_topics_str.split(',')]\n",
    "print(proper_topics)"
   ]
  },
  {
   "cell_type": "code",
   "execution_count": 5,
   "metadata": {},
   "outputs": [],
   "source": [
    "# For clean run (without rerunning previous code)\n",
    "proper_topics = ['Technical Aspects', 'User Experience', 'Sound & Performance', 'Aesthetics', 'Durability', 'Price & Value', 'Customer Experience', 'Size & Portability', 'Functionality & Usability', 'Shipping & Delivery', 'Brand Perception', 'Product Quality', 'Comfort & Design', 'Learning Curve', 'Target Audience', 'Usage Experience', 'Gift Giving', 'Emotional Response', 'Compatibility', 'Customer Service']"
   ]
  },
  {
   "cell_type": "markdown",
   "metadata": {},
   "source": [
    "### Step 3 - Assigning batches of dataset to Topics Generated in Step 2 and sentiment of the review"
   ]
  },
  {
   "cell_type": "code",
   "execution_count": 25,
   "metadata": {},
   "outputs": [],
   "source": [
    "def assign_topics_in_batches(input_df, topics, batch_size, llm=None):\n",
    "    \"\"\"\n",
    "    Assign topics and sentiment to Amazon reviews in batches and update DataFrame directly.\n",
    "\n",
    "    Parameters:\n",
    "    input_df (pd.DataFrame): DataFrame containing Amazon reviews\n",
    "    topics (str): String of topics to assign from\n",
    "    batch_size (int): Number of reviews to process in each batch\n",
    "    llm: The language model instance to use for assigning topics\n",
    "\n",
    "    Returns:\n",
    "    pd.DataFrame: Updated DataFrame with topic and sentiment assignments\n",
    "    \"\"\"\n",
    "    if llm is None:\n",
    "        raise ValueError(\"LLM instance must be provided\")\n",
    "\n",
    "    # Create a copy of the DataFrame to avoid modifying the original\n",
    "    df = input_df.copy()\n",
    "\n",
    "    # Initialize Topic and Sentiment columns with 'Unknown'\n",
    "    df['Topic'] = 'Unknown'\n",
    "    df['Sentiment'] = 'Unknown'\n",
    "\n",
    "    total_reviews = len(df)\n",
    "\n",
    "    # Process reviews in batches with progress bar\n",
    "    for start_idx in tqdm(range(0, total_reviews, batch_size), desc=\"Assigning topics\"):\n",
    "        end_idx = min(start_idx + batch_size, total_reviews)\n",
    "        batch_reviews_list = df.iloc[start_idx:end_idx]\n",
    "        batch_reviews = \" \".join([f\"Comment {i + 1}: {review},\" for i, review in enumerate(batch_reviews_list['Reviews'])])\n",
    "        \n",
    "        # Generate prompt for current batch\n",
    "        prompt_assigning_prompt = f'''You are provided with amazon reviews and helping to cluster the reviews based on the topics.\n",
    "Please thoroghly read the amazon review below and assign the proper topic (from the list of topics) and sentiment (Positive, Negative or Neutral) to the review.\n",
    "Amazon Review: {batch_reviews}\n",
    "Topics: {topics}\n",
    "Please return in CSV format only one topic and one sentiment for respective review and nothing else. So only 1 coma. Do not use triple backtick blocks. Only output exactly as on the example below:\n",
    "Example: Some happy review from customer.\n",
    "Output: Selected Topic, Positive\n",
    "'''\n",
    "\n",
    "        # Get assignments for current batch\n",
    "        result = llm.invoke(prompt_assigning_prompt, temperature=0.0)\n",
    "        try:\n",
    "            topic, sentiment = [topic.strip() for topic in result.split(',')]\n",
    "            current_idx = start_idx\n",
    "            df.at[current_idx, 'Topic'] = topic\n",
    "            df.at[current_idx, 'Sentiment'] = sentiment\n",
    "        except Exception as e:\n",
    "            print(f\"\\nUnexpected error processing batch starting at index {start_idx}: {str(e)}\")\n",
    "            continue\n",
    "\n",
    "    return df\n"
   ]
  },
  {
   "cell_type": "code",
   "execution_count": 26,
   "metadata": {},
   "outputs": [
    {
     "name": "stderr",
     "output_type": "stream",
     "text": [
      "Assigning topics:   2%|▏         | 240/10000 [05:15<3:51:29,  1.42s/it]"
     ]
    },
    {
     "name": "stdout",
     "output_type": "stream",
     "text": [
      "\n",
      "Unexpected error processing batch starting at index 239: not enough values to unpack (expected 2, got 1)\n"
     ]
    },
    {
     "name": "stderr",
     "output_type": "stream",
     "text": [
      "Assigning topics:   2%|▏         | 248/10000 [05:27<4:23:40,  1.62s/it]"
     ]
    },
    {
     "name": "stdout",
     "output_type": "stream",
     "text": [
      "\n",
      "Unexpected error processing batch starting at index 247: too many values to unpack (expected 2)\n"
     ]
    },
    {
     "name": "stderr",
     "output_type": "stream",
     "text": [
      "Assigning topics:   3%|▎         | 300/10000 [06:37<5:30:18,  2.04s/it]"
     ]
    },
    {
     "name": "stdout",
     "output_type": "stream",
     "text": [
      "\n",
      "Unexpected error processing batch starting at index 299: too many values to unpack (expected 2)\n"
     ]
    },
    {
     "name": "stderr",
     "output_type": "stream",
     "text": [
      "Assigning topics:   4%|▍         | 418/10000 [09:20<4:45:27,  1.79s/it]"
     ]
    },
    {
     "name": "stdout",
     "output_type": "stream",
     "text": [
      "\n",
      "Unexpected error processing batch starting at index 417: too many values to unpack (expected 2)\n"
     ]
    },
    {
     "name": "stderr",
     "output_type": "stream",
     "text": [
      "Assigning topics:   6%|▌         | 592/10000 [13:16<3:47:39,  1.45s/it]"
     ]
    },
    {
     "name": "stdout",
     "output_type": "stream",
     "text": [
      "\n",
      "Unexpected error processing batch starting at index 591: not enough values to unpack (expected 2, got 1)\n"
     ]
    },
    {
     "name": "stderr",
     "output_type": "stream",
     "text": [
      "Assigning topics:   6%|▌         | 617/10000 [13:51<3:54:16,  1.50s/it]"
     ]
    },
    {
     "name": "stdout",
     "output_type": "stream",
     "text": [
      "\n",
      "Unexpected error processing batch starting at index 616: too many values to unpack (expected 2)\n"
     ]
    },
    {
     "name": "stderr",
     "output_type": "stream",
     "text": [
      "Assigning topics:   7%|▋         | 727/10000 [16:28<6:02:55,  2.35s/it]"
     ]
    },
    {
     "name": "stdout",
     "output_type": "stream",
     "text": [
      "\n",
      "Unexpected error processing batch starting at index 726: too many values to unpack (expected 2)\n"
     ]
    },
    {
     "name": "stderr",
     "output_type": "stream",
     "text": [
      "Assigning topics:   8%|▊         | 783/10000 [17:50<5:01:33,  1.96s/it]"
     ]
    },
    {
     "name": "stdout",
     "output_type": "stream",
     "text": [
      "\n",
      "Unexpected error processing batch starting at index 782: too many values to unpack (expected 2)\n"
     ]
    },
    {
     "name": "stderr",
     "output_type": "stream",
     "text": [
      "Assigning topics:  11%|█         | 1092/10000 [24:56<3:50:36,  1.55s/it]"
     ]
    },
    {
     "name": "stdout",
     "output_type": "stream",
     "text": [
      "\n",
      "Unexpected error processing batch starting at index 1091: too many values to unpack (expected 2)\n"
     ]
    },
    {
     "name": "stderr",
     "output_type": "stream",
     "text": [
      "Assigning topics:  11%|█         | 1115/10000 [25:25<3:07:49,  1.27s/it]"
     ]
    },
    {
     "name": "stdout",
     "output_type": "stream",
     "text": [
      "\n",
      "Unexpected error processing batch starting at index 1114: too many values to unpack (expected 2)\n"
     ]
    },
    {
     "name": "stderr",
     "output_type": "stream",
     "text": [
      "Assigning topics:  15%|█▍        | 1497/10000 [33:40<3:16:15,  1.38s/it]"
     ]
    },
    {
     "name": "stdout",
     "output_type": "stream",
     "text": [
      "\n",
      "Unexpected error processing batch starting at index 1496: not enough values to unpack (expected 2, got 1)\n"
     ]
    },
    {
     "name": "stderr",
     "output_type": "stream",
     "text": [
      "Assigning topics:  18%|█▊        | 1812/10000 [40:31<3:53:55,  1.71s/it]"
     ]
    },
    {
     "name": "stdout",
     "output_type": "stream",
     "text": [
      "\n",
      "Unexpected error processing batch starting at index 1811: too many values to unpack (expected 2)\n"
     ]
    },
    {
     "name": "stderr",
     "output_type": "stream",
     "text": [
      "Assigning topics:  18%|█▊        | 1827/10000 [40:53<4:02:13,  1.78s/it]"
     ]
    },
    {
     "name": "stdout",
     "output_type": "stream",
     "text": [
      "\n",
      "Unexpected error processing batch starting at index 1826: too many values to unpack (expected 2)\n"
     ]
    },
    {
     "name": "stderr",
     "output_type": "stream",
     "text": [
      "Assigning topics:  19%|█▊        | 1866/10000 [41:44<3:09:59,  1.40s/it]"
     ]
    },
    {
     "name": "stdout",
     "output_type": "stream",
     "text": [
      "\n",
      "Unexpected error processing batch starting at index 1865: not enough values to unpack (expected 2, got 1)\n"
     ]
    },
    {
     "name": "stderr",
     "output_type": "stream",
     "text": [
      "Assigning topics:  19%|█▉        | 1883/10000 [42:10<3:36:05,  1.60s/it]"
     ]
    },
    {
     "name": "stdout",
     "output_type": "stream",
     "text": [
      "\n",
      "Unexpected error processing batch starting at index 1882: too many values to unpack (expected 2)\n"
     ]
    },
    {
     "name": "stderr",
     "output_type": "stream",
     "text": [
      "Assigning topics:  21%|██        | 2070/10000 [46:34<4:45:00,  2.16s/it]"
     ]
    },
    {
     "name": "stdout",
     "output_type": "stream",
     "text": [
      "\n",
      "Unexpected error processing batch starting at index 2069: too many values to unpack (expected 2)\n"
     ]
    },
    {
     "name": "stderr",
     "output_type": "stream",
     "text": [
      "Assigning topics:  22%|██▏       | 2184/10000 [49:03<4:29:05,  2.07s/it]"
     ]
    },
    {
     "name": "stdout",
     "output_type": "stream",
     "text": [
      "\n",
      "Unexpected error processing batch starting at index 2183: too many values to unpack (expected 2)\n"
     ]
    },
    {
     "name": "stderr",
     "output_type": "stream",
     "text": [
      "Assigning topics:  22%|██▏       | 2208/10000 [49:37<3:03:06,  1.41s/it]"
     ]
    },
    {
     "name": "stdout",
     "output_type": "stream",
     "text": [
      "\n",
      "Unexpected error processing batch starting at index 2207: not enough values to unpack (expected 2, got 1)\n"
     ]
    },
    {
     "name": "stderr",
     "output_type": "stream",
     "text": [
      "Assigning topics:  22%|██▏       | 2213/10000 [49:56<11:00:59,  5.09s/it]"
     ]
    },
    {
     "name": "stdout",
     "output_type": "stream",
     "text": [
      "\n",
      "Unexpected error processing batch starting at index 2212: too many values to unpack (expected 2)\n"
     ]
    },
    {
     "name": "stderr",
     "output_type": "stream",
     "text": [
      "Assigning topics:  23%|██▎       | 2282/10000 [51:27<3:20:24,  1.56s/it] "
     ]
    },
    {
     "name": "stdout",
     "output_type": "stream",
     "text": [
      "\n",
      "Unexpected error processing batch starting at index 2281: too many values to unpack (expected 2)\n"
     ]
    },
    {
     "name": "stderr",
     "output_type": "stream",
     "text": [
      "Assigning topics:  24%|██▍       | 2404/10000 [54:10<3:22:00,  1.60s/it]"
     ]
    },
    {
     "name": "stdout",
     "output_type": "stream",
     "text": [
      "\n",
      "Unexpected error processing batch starting at index 2403: too many values to unpack (expected 2)\n"
     ]
    },
    {
     "name": "stderr",
     "output_type": "stream",
     "text": [
      "Assigning topics:  24%|██▍       | 2447/10000 [55:12<3:18:17,  1.58s/it]"
     ]
    },
    {
     "name": "stdout",
     "output_type": "stream",
     "text": [
      "\n",
      "Unexpected error processing batch starting at index 2446: too many values to unpack (expected 2)\n"
     ]
    },
    {
     "name": "stderr",
     "output_type": "stream",
     "text": [
      "Assigning topics:  26%|██▌       | 2607/10000 [58:49<3:07:12,  1.52s/it]"
     ]
    },
    {
     "name": "stdout",
     "output_type": "stream",
     "text": [
      "\n",
      "Unexpected error processing batch starting at index 2606: too many values to unpack (expected 2)\n"
     ]
    },
    {
     "name": "stderr",
     "output_type": "stream",
     "text": [
      "Assigning topics:  26%|██▋       | 2628/10000 [59:18<2:53:43,  1.41s/it]"
     ]
    },
    {
     "name": "stdout",
     "output_type": "stream",
     "text": [
      "\n",
      "Unexpected error processing batch starting at index 2627: too many values to unpack (expected 2)\n"
     ]
    },
    {
     "name": "stderr",
     "output_type": "stream",
     "text": [
      "Assigning topics:  27%|██▋       | 2689/10000 [1:00:39<3:55:01,  1.93s/it]"
     ]
    },
    {
     "name": "stdout",
     "output_type": "stream",
     "text": [
      "\n",
      "Unexpected error processing batch starting at index 2688: too many values to unpack (expected 2)\n"
     ]
    },
    {
     "name": "stderr",
     "output_type": "stream",
     "text": [
      "Assigning topics:  28%|██▊       | 2804/10000 [1:03:13<2:52:26,  1.44s/it]"
     ]
    },
    {
     "name": "stdout",
     "output_type": "stream",
     "text": [
      "\n",
      "Unexpected error processing batch starting at index 2803: too many values to unpack (expected 2)\n"
     ]
    },
    {
     "name": "stderr",
     "output_type": "stream",
     "text": [
      "Assigning topics:  30%|███       | 3018/10000 [1:08:04<3:19:43,  1.72s/it]"
     ]
    },
    {
     "name": "stdout",
     "output_type": "stream",
     "text": [
      "\n",
      "Unexpected error processing batch starting at index 3017: too many values to unpack (expected 2)\n"
     ]
    },
    {
     "name": "stderr",
     "output_type": "stream",
     "text": [
      "Assigning topics:  30%|███       | 3038/10000 [1:08:32<3:56:40,  2.04s/it]"
     ]
    },
    {
     "name": "stdout",
     "output_type": "stream",
     "text": [
      "\n",
      "Unexpected error processing batch starting at index 3037: too many values to unpack (expected 2)\n"
     ]
    },
    {
     "name": "stderr",
     "output_type": "stream",
     "text": [
      "Assigning topics:  31%|███       | 3099/10000 [1:09:59<2:50:14,  1.48s/it]"
     ]
    },
    {
     "name": "stdout",
     "output_type": "stream",
     "text": [
      "\n",
      "Unexpected error processing batch starting at index 3098: too many values to unpack (expected 2)\n"
     ]
    },
    {
     "name": "stderr",
     "output_type": "stream",
     "text": [
      "Assigning topics:  31%|███       | 3100/10000 [1:10:02<3:16:13,  1.71s/it]"
     ]
    },
    {
     "name": "stdout",
     "output_type": "stream",
     "text": [
      "\n",
      "Unexpected error processing batch starting at index 3099: too many values to unpack (expected 2)\n"
     ]
    },
    {
     "name": "stderr",
     "output_type": "stream",
     "text": [
      "Assigning topics:  31%|███▏      | 3126/10000 [1:10:36<2:59:34,  1.57s/it]"
     ]
    },
    {
     "name": "stdout",
     "output_type": "stream",
     "text": [
      "\n",
      "Unexpected error processing batch starting at index 3125: too many values to unpack (expected 2)\n"
     ]
    },
    {
     "name": "stderr",
     "output_type": "stream",
     "text": [
      "Assigning topics:  32%|███▏      | 3228/10000 [1:12:48<3:12:54,  1.71s/it]"
     ]
    },
    {
     "name": "stdout",
     "output_type": "stream",
     "text": [
      "\n",
      "Unexpected error processing batch starting at index 3227: too many values to unpack (expected 2)\n"
     ]
    },
    {
     "name": "stderr",
     "output_type": "stream",
     "text": [
      "Assigning topics:  33%|███▎      | 3256/10000 [1:13:23<2:26:12,  1.30s/it]"
     ]
    },
    {
     "name": "stdout",
     "output_type": "stream",
     "text": [
      "\n",
      "Unexpected error processing batch starting at index 3255: not enough values to unpack (expected 2, got 1)\n"
     ]
    },
    {
     "name": "stderr",
     "output_type": "stream",
     "text": [
      "Assigning topics:  33%|███▎      | 3332/10000 [1:15:12<5:06:25,  2.76s/it]"
     ]
    },
    {
     "name": "stdout",
     "output_type": "stream",
     "text": [
      "\n",
      "Unexpected error processing batch starting at index 3331: too many values to unpack (expected 2)\n"
     ]
    },
    {
     "name": "stderr",
     "output_type": "stream",
     "text": [
      "Assigning topics:  34%|███▍      | 3406/10000 [1:16:50<2:41:39,  1.47s/it]"
     ]
    },
    {
     "name": "stdout",
     "output_type": "stream",
     "text": [
      "\n",
      "Unexpected error processing batch starting at index 3405: too many values to unpack (expected 2)\n"
     ]
    },
    {
     "name": "stderr",
     "output_type": "stream",
     "text": [
      "Assigning topics:  35%|███▍      | 3462/10000 [1:18:04<2:41:27,  1.48s/it]"
     ]
    },
    {
     "name": "stdout",
     "output_type": "stream",
     "text": [
      "\n",
      "Unexpected error processing batch starting at index 3461: too many values to unpack (expected 2)\n"
     ]
    },
    {
     "name": "stderr",
     "output_type": "stream",
     "text": [
      "Assigning topics:  36%|███▌      | 3612/10000 [1:21:23<2:21:26,  1.33s/it]"
     ]
    },
    {
     "name": "stdout",
     "output_type": "stream",
     "text": [
      "\n",
      "Unexpected error processing batch starting at index 3611: too many values to unpack (expected 2)\n"
     ]
    },
    {
     "name": "stderr",
     "output_type": "stream",
     "text": [
      "Assigning topics:  36%|███▋      | 3635/10000 [1:21:53<2:51:48,  1.62s/it]"
     ]
    },
    {
     "name": "stdout",
     "output_type": "stream",
     "text": [
      "\n",
      "Unexpected error processing batch starting at index 3634: too many values to unpack (expected 2)\n"
     ]
    },
    {
     "name": "stderr",
     "output_type": "stream",
     "text": [
      "Assigning topics:  36%|███▋      | 3640/10000 [1:22:00<2:38:49,  1.50s/it]"
     ]
    },
    {
     "name": "stdout",
     "output_type": "stream",
     "text": [
      "\n",
      "Unexpected error processing batch starting at index 3639: not enough values to unpack (expected 2, got 1)\n"
     ]
    },
    {
     "name": "stderr",
     "output_type": "stream",
     "text": [
      "Assigning topics:  39%|███▊      | 3874/10000 [1:27:25<2:49:31,  1.66s/it]"
     ]
    },
    {
     "name": "stdout",
     "output_type": "stream",
     "text": [
      "\n",
      "Unexpected error processing batch starting at index 3873: too many values to unpack (expected 2)\n"
     ]
    },
    {
     "name": "stderr",
     "output_type": "stream",
     "text": [
      "Assigning topics:  39%|███▉      | 3889/10000 [1:27:51<3:26:11,  2.02s/it]"
     ]
    },
    {
     "name": "stdout",
     "output_type": "stream",
     "text": [
      "\n",
      "Unexpected error processing batch starting at index 3888: too many values to unpack (expected 2)\n"
     ]
    },
    {
     "name": "stderr",
     "output_type": "stream",
     "text": [
      "Assigning topics:  39%|███▉      | 3890/10000 [1:27:52<3:11:04,  1.88s/it]"
     ]
    },
    {
     "name": "stdout",
     "output_type": "stream",
     "text": [
      "\n",
      "Unexpected error processing batch starting at index 3889: too many values to unpack (expected 2)\n"
     ]
    },
    {
     "name": "stderr",
     "output_type": "stream",
     "text": [
      "Assigning topics:  39%|███▉      | 3922/10000 [1:28:34<2:15:42,  1.34s/it]"
     ]
    },
    {
     "name": "stdout",
     "output_type": "stream",
     "text": [
      "\n",
      "Unexpected error processing batch starting at index 3921: too many values to unpack (expected 2)\n"
     ]
    },
    {
     "name": "stderr",
     "output_type": "stream",
     "text": [
      "Assigning topics:  43%|████▎     | 4344/10000 [1:37:57<2:43:59,  1.74s/it]"
     ]
    },
    {
     "name": "stdout",
     "output_type": "stream",
     "text": [
      "\n",
      "Unexpected error processing batch starting at index 4343: too many values to unpack (expected 2)\n"
     ]
    },
    {
     "name": "stderr",
     "output_type": "stream",
     "text": [
      "Assigning topics:  44%|████▎     | 4372/10000 [1:38:34<2:12:39,  1.41s/it]"
     ]
    },
    {
     "name": "stdout",
     "output_type": "stream",
     "text": [
      "\n",
      "Unexpected error processing batch starting at index 4371: too many values to unpack (expected 2)\n"
     ]
    },
    {
     "name": "stderr",
     "output_type": "stream",
     "text": [
      "Assigning topics:  44%|████▍     | 4384/10000 [1:38:51<2:48:40,  1.80s/it]"
     ]
    },
    {
     "name": "stdout",
     "output_type": "stream",
     "text": [
      "\n",
      "Unexpected error processing batch starting at index 4383: too many values to unpack (expected 2)\n"
     ]
    },
    {
     "name": "stderr",
     "output_type": "stream",
     "text": [
      "Assigning topics:  45%|████▍     | 4482/10000 [1:40:57<2:16:12,  1.48s/it]"
     ]
    },
    {
     "name": "stdout",
     "output_type": "stream",
     "text": [
      "\n",
      "Unexpected error processing batch starting at index 4481: too many values to unpack (expected 2)\n"
     ]
    },
    {
     "name": "stderr",
     "output_type": "stream",
     "text": [
      "Assigning topics:  46%|████▌     | 4596/10000 [1:43:29<2:35:50,  1.73s/it]"
     ]
    },
    {
     "name": "stdout",
     "output_type": "stream",
     "text": [
      "\n",
      "Unexpected error processing batch starting at index 4595: too many values to unpack (expected 2)\n"
     ]
    },
    {
     "name": "stderr",
     "output_type": "stream",
     "text": [
      "Assigning topics:  47%|████▋     | 4655/10000 [1:44:50<2:22:59,  1.61s/it]"
     ]
    },
    {
     "name": "stdout",
     "output_type": "stream",
     "text": [
      "\n",
      "Unexpected error processing batch starting at index 4654: too many values to unpack (expected 2)\n"
     ]
    },
    {
     "name": "stderr",
     "output_type": "stream",
     "text": [
      "Assigning topics:  47%|████▋     | 4682/10000 [1:45:24<2:01:57,  1.38s/it]"
     ]
    },
    {
     "name": "stdout",
     "output_type": "stream",
     "text": [
      "\n",
      "Unexpected error processing batch starting at index 4681: too many values to unpack (expected 2)\n"
     ]
    },
    {
     "name": "stderr",
     "output_type": "stream",
     "text": [
      "Assigning topics:  49%|████▉     | 4946/10000 [1:51:07<1:55:01,  1.37s/it]"
     ]
    },
    {
     "name": "stdout",
     "output_type": "stream",
     "text": [
      "\n",
      "Unexpected error processing batch starting at index 4945: too many values to unpack (expected 2)\n"
     ]
    },
    {
     "name": "stderr",
     "output_type": "stream",
     "text": [
      "Assigning topics:  50%|████▉     | 4959/10000 [1:51:28<2:44:21,  1.96s/it]"
     ]
    },
    {
     "name": "stdout",
     "output_type": "stream",
     "text": [
      "\n",
      "Unexpected error processing batch starting at index 4958: too many values to unpack (expected 2)\n"
     ]
    },
    {
     "name": "stderr",
     "output_type": "stream",
     "text": [
      "Assigning topics:  50%|████▉     | 4976/10000 [1:51:51<2:15:19,  1.62s/it]"
     ]
    },
    {
     "name": "stdout",
     "output_type": "stream",
     "text": [
      "\n",
      "Unexpected error processing batch starting at index 4975: too many values to unpack (expected 2)\n"
     ]
    },
    {
     "name": "stderr",
     "output_type": "stream",
     "text": [
      "Assigning topics:  50%|█████     | 5039/10000 [1:53:17<2:56:20,  2.13s/it]"
     ]
    },
    {
     "name": "stdout",
     "output_type": "stream",
     "text": [
      "\n",
      "Unexpected error processing batch starting at index 5038: too many values to unpack (expected 2)\n"
     ]
    },
    {
     "name": "stderr",
     "output_type": "stream",
     "text": [
      "Assigning topics:  51%|█████     | 5056/10000 [1:53:45<2:21:02,  1.71s/it]"
     ]
    },
    {
     "name": "stdout",
     "output_type": "stream",
     "text": [
      "\n",
      "Unexpected error processing batch starting at index 5055: too many values to unpack (expected 2)\n"
     ]
    },
    {
     "name": "stderr",
     "output_type": "stream",
     "text": [
      "Assigning topics:  51%|█████     | 5073/10000 [1:54:07<2:26:09,  1.78s/it]"
     ]
    },
    {
     "name": "stdout",
     "output_type": "stream",
     "text": [
      "\n",
      "Unexpected error processing batch starting at index 5072: too many values to unpack (expected 2)\n"
     ]
    },
    {
     "name": "stderr",
     "output_type": "stream",
     "text": [
      "Assigning topics:  51%|█████     | 5114/10000 [1:55:07<2:09:39,  1.59s/it]"
     ]
    },
    {
     "name": "stdout",
     "output_type": "stream",
     "text": [
      "\n",
      "Unexpected error processing batch starting at index 5113: too many values to unpack (expected 2)\n"
     ]
    },
    {
     "name": "stderr",
     "output_type": "stream",
     "text": [
      "Assigning topics:  52%|█████▏    | 5247/10000 [1:58:10<2:06:22,  1.60s/it]"
     ]
    },
    {
     "name": "stdout",
     "output_type": "stream",
     "text": [
      "\n",
      "Unexpected error processing batch starting at index 5246: too many values to unpack (expected 2)\n"
     ]
    },
    {
     "name": "stderr",
     "output_type": "stream",
     "text": [
      "Assigning topics:  53%|█████▎    | 5262/10000 [1:58:33<2:19:11,  1.76s/it]"
     ]
    },
    {
     "name": "stdout",
     "output_type": "stream",
     "text": [
      "\n",
      "Unexpected error processing batch starting at index 5261: too many values to unpack (expected 2)\n"
     ]
    },
    {
     "name": "stderr",
     "output_type": "stream",
     "text": [
      "Assigning topics:  53%|█████▎    | 5328/10000 [2:00:07<1:43:53,  1.33s/it]"
     ]
    },
    {
     "name": "stdout",
     "output_type": "stream",
     "text": [
      "\n",
      "Unexpected error processing batch starting at index 5327: too many values to unpack (expected 2)\n"
     ]
    },
    {
     "name": "stderr",
     "output_type": "stream",
     "text": [
      "Assigning topics:  53%|█████▎    | 5349/10000 [2:00:34<2:16:09,  1.76s/it]"
     ]
    },
    {
     "name": "stdout",
     "output_type": "stream",
     "text": [
      "\n",
      "Unexpected error processing batch starting at index 5348: too many values to unpack (expected 2)\n"
     ]
    },
    {
     "name": "stderr",
     "output_type": "stream",
     "text": [
      "Assigning topics:  55%|█████▍    | 5476/10000 [2:03:23<1:57:41,  1.56s/it]"
     ]
    },
    {
     "name": "stdout",
     "output_type": "stream",
     "text": [
      "\n",
      "Unexpected error processing batch starting at index 5475: too many values to unpack (expected 2)\n"
     ]
    },
    {
     "name": "stderr",
     "output_type": "stream",
     "text": [
      "Assigning topics:  56%|█████▌    | 5565/10000 [2:05:20<2:18:21,  1.87s/it]"
     ]
    },
    {
     "name": "stdout",
     "output_type": "stream",
     "text": [
      "\n",
      "Unexpected error processing batch starting at index 5564: too many values to unpack (expected 2)\n"
     ]
    },
    {
     "name": "stderr",
     "output_type": "stream",
     "text": [
      "Assigning topics:  59%|█████▉    | 5895/10000 [2:12:39<1:43:51,  1.52s/it]"
     ]
    },
    {
     "name": "stdout",
     "output_type": "stream",
     "text": [
      "\n",
      "Unexpected error processing batch starting at index 5894: too many values to unpack (expected 2)\n"
     ]
    },
    {
     "name": "stderr",
     "output_type": "stream",
     "text": [
      "Assigning topics:  59%|█████▉    | 5930/10000 [2:13:29<1:47:02,  1.58s/it]"
     ]
    },
    {
     "name": "stdout",
     "output_type": "stream",
     "text": [
      "\n",
      "Unexpected error processing batch starting at index 5929: too many values to unpack (expected 2)\n"
     ]
    },
    {
     "name": "stderr",
     "output_type": "stream",
     "text": [
      "Assigning topics:  60%|█████▉    | 5960/10000 [2:14:11<1:40:53,  1.50s/it]"
     ]
    },
    {
     "name": "stdout",
     "output_type": "stream",
     "text": [
      "\n",
      "Unexpected error processing batch starting at index 5959: too many values to unpack (expected 2)\n"
     ]
    },
    {
     "name": "stderr",
     "output_type": "stream",
     "text": [
      "Assigning topics:  61%|██████▏   | 6134/10000 [2:18:09<1:44:00,  1.61s/it]"
     ]
    },
    {
     "name": "stdout",
     "output_type": "stream",
     "text": [
      "\n",
      "Unexpected error processing batch starting at index 6133: too many values to unpack (expected 2)\n"
     ]
    },
    {
     "name": "stderr",
     "output_type": "stream",
     "text": [
      "Assigning topics:  64%|██████▍   | 6416/10000 [2:24:11<1:19:42,  1.33s/it]"
     ]
    },
    {
     "name": "stdout",
     "output_type": "stream",
     "text": [
      "\n",
      "Unexpected error processing batch starting at index 6415: too many values to unpack (expected 2)\n"
     ]
    },
    {
     "name": "stderr",
     "output_type": "stream",
     "text": [
      "Assigning topics:  65%|██████▍   | 6470/10000 [2:25:28<1:34:04,  1.60s/it]"
     ]
    },
    {
     "name": "stdout",
     "output_type": "stream",
     "text": [
      "\n",
      "Unexpected error processing batch starting at index 6469: too many values to unpack (expected 2)\n"
     ]
    },
    {
     "name": "stderr",
     "output_type": "stream",
     "text": [
      "Assigning topics:  65%|██████▍   | 6494/10000 [2:26:01<1:30:42,  1.55s/it]"
     ]
    },
    {
     "name": "stdout",
     "output_type": "stream",
     "text": [
      "\n",
      "Unexpected error processing batch starting at index 6493: too many values to unpack (expected 2)\n"
     ]
    },
    {
     "name": "stderr",
     "output_type": "stream",
     "text": [
      "Assigning topics:  67%|██████▋   | 6651/10000 [2:29:33<1:30:42,  1.63s/it]"
     ]
    },
    {
     "name": "stdout",
     "output_type": "stream",
     "text": [
      "\n",
      "Unexpected error processing batch starting at index 6650: too many values to unpack (expected 2)\n"
     ]
    },
    {
     "name": "stderr",
     "output_type": "stream",
     "text": [
      "Assigning topics:  67%|██████▋   | 6663/10000 [2:29:50<1:30:18,  1.62s/it]"
     ]
    },
    {
     "name": "stdout",
     "output_type": "stream",
     "text": [
      "\n",
      "Unexpected error processing batch starting at index 6662: too many values to unpack (expected 2)\n"
     ]
    },
    {
     "name": "stderr",
     "output_type": "stream",
     "text": [
      "Assigning topics:  67%|██████▋   | 6720/10000 [2:31:11<1:40:31,  1.84s/it]"
     ]
    },
    {
     "name": "stdout",
     "output_type": "stream",
     "text": [
      "\n",
      "Unexpected error processing batch starting at index 6719: too many values to unpack (expected 2)\n"
     ]
    },
    {
     "name": "stderr",
     "output_type": "stream",
     "text": [
      "Assigning topics:  68%|██████▊   | 6818/10000 [2:33:22<1:43:37,  1.95s/it]"
     ]
    },
    {
     "name": "stdout",
     "output_type": "stream",
     "text": [
      "\n",
      "Unexpected error processing batch starting at index 6817: too many values to unpack (expected 2)\n"
     ]
    },
    {
     "name": "stderr",
     "output_type": "stream",
     "text": [
      "Assigning topics:  69%|██████▊   | 6862/10000 [2:34:21<1:37:04,  1.86s/it]"
     ]
    },
    {
     "name": "stdout",
     "output_type": "stream",
     "text": [
      "\n",
      "Unexpected error processing batch starting at index 6861: too many values to unpack (expected 2)\n"
     ]
    },
    {
     "name": "stderr",
     "output_type": "stream",
     "text": [
      "Assigning topics:  69%|██████▉   | 6909/10000 [2:35:21<1:11:03,  1.38s/it]"
     ]
    },
    {
     "name": "stdout",
     "output_type": "stream",
     "text": [
      "\n",
      "Unexpected error processing batch starting at index 6908: too many values to unpack (expected 2)\n"
     ]
    },
    {
     "name": "stderr",
     "output_type": "stream",
     "text": [
      "Assigning topics:  71%|███████   | 7077/10000 [2:39:01<1:17:13,  1.59s/it]"
     ]
    },
    {
     "name": "stdout",
     "output_type": "stream",
     "text": [
      "\n",
      "Unexpected error processing batch starting at index 7076: too many values to unpack (expected 2)\n"
     ]
    },
    {
     "name": "stderr",
     "output_type": "stream",
     "text": [
      "Assigning topics:  72%|███████▏  | 7157/10000 [2:40:58<1:37:10,  2.05s/it]"
     ]
    },
    {
     "name": "stdout",
     "output_type": "stream",
     "text": [
      "\n",
      "Unexpected error processing batch starting at index 7156: too many values to unpack (expected 2)\n"
     ]
    },
    {
     "name": "stderr",
     "output_type": "stream",
     "text": [
      "Assigning topics:  73%|███████▎  | 7340/10000 [2:45:04<1:10:13,  1.58s/it]"
     ]
    },
    {
     "name": "stdout",
     "output_type": "stream",
     "text": [
      "\n",
      "Unexpected error processing batch starting at index 7339: too many values to unpack (expected 2)\n"
     ]
    },
    {
     "name": "stderr",
     "output_type": "stream",
     "text": [
      "Assigning topics:  75%|███████▍  | 7467/10000 [2:47:57<1:07:41,  1.60s/it]"
     ]
    },
    {
     "name": "stdout",
     "output_type": "stream",
     "text": [
      "\n",
      "Unexpected error processing batch starting at index 7466: too many values to unpack (expected 2)\n"
     ]
    },
    {
     "name": "stderr",
     "output_type": "stream",
     "text": [
      "Assigning topics:  76%|███████▌  | 7552/10000 [2:50:05<1:10:44,  1.73s/it]"
     ]
    },
    {
     "name": "stdout",
     "output_type": "stream",
     "text": [
      "\n",
      "Unexpected error processing batch starting at index 7551: too many values to unpack (expected 2)\n"
     ]
    },
    {
     "name": "stderr",
     "output_type": "stream",
     "text": [
      "Assigning topics:  76%|███████▌  | 7599/10000 [2:51:04<51:30,  1.29s/it]  "
     ]
    },
    {
     "name": "stdout",
     "output_type": "stream",
     "text": [
      "\n",
      "Unexpected error processing batch starting at index 7598: too many values to unpack (expected 2)\n"
     ]
    },
    {
     "name": "stderr",
     "output_type": "stream",
     "text": [
      "Assigning topics:  78%|███████▊  | 7815/10000 [2:55:58<53:55,  1.48s/it]  "
     ]
    },
    {
     "name": "stdout",
     "output_type": "stream",
     "text": [
      "\n",
      "Unexpected error processing batch starting at index 7814: too many values to unpack (expected 2)\n"
     ]
    },
    {
     "name": "stderr",
     "output_type": "stream",
     "text": [
      "Assigning topics:  80%|███████▉  | 7990/10000 [2:59:42<1:17:06,  2.30s/it]"
     ]
    },
    {
     "name": "stdout",
     "output_type": "stream",
     "text": [
      "\n",
      "Unexpected error processing batch starting at index 7989: too many values to unpack (expected 2)\n"
     ]
    },
    {
     "name": "stderr",
     "output_type": "stream",
     "text": [
      "Assigning topics:  81%|████████  | 8114/10000 [3:02:22<54:14,  1.73s/it]  "
     ]
    },
    {
     "name": "stdout",
     "output_type": "stream",
     "text": [
      "\n",
      "Unexpected error processing batch starting at index 8113: too many values to unpack (expected 2)\n"
     ]
    },
    {
     "name": "stderr",
     "output_type": "stream",
     "text": [
      "Assigning topics:  82%|████████▏ | 8243/10000 [3:05:25<1:08:49,  2.35s/it]"
     ]
    },
    {
     "name": "stdout",
     "output_type": "stream",
     "text": [
      "\n",
      "Unexpected error processing batch starting at index 8242: too many values to unpack (expected 2)\n"
     ]
    },
    {
     "name": "stderr",
     "output_type": "stream",
     "text": [
      "Assigning topics:  82%|████████▏ | 8244/10000 [3:05:27<1:05:24,  2.23s/it]"
     ]
    },
    {
     "name": "stdout",
     "output_type": "stream",
     "text": [
      "\n",
      "Unexpected error processing batch starting at index 8243: too many values to unpack (expected 2)\n"
     ]
    },
    {
     "name": "stderr",
     "output_type": "stream",
     "text": [
      "Assigning topics:  84%|████████▍ | 8437/10000 [3:09:46<42:32,  1.63s/it]  "
     ]
    },
    {
     "name": "stdout",
     "output_type": "stream",
     "text": [
      "\n",
      "Unexpected error processing batch starting at index 8436: too many values to unpack (expected 2)\n"
     ]
    },
    {
     "name": "stderr",
     "output_type": "stream",
     "text": [
      "Assigning topics:  85%|████████▌ | 8510/10000 [3:11:24<41:29,  1.67s/it]"
     ]
    },
    {
     "name": "stdout",
     "output_type": "stream",
     "text": [
      "\n",
      "Unexpected error processing batch starting at index 8509: too many values to unpack (expected 2)\n"
     ]
    },
    {
     "name": "stderr",
     "output_type": "stream",
     "text": [
      "Assigning topics:  86%|████████▌ | 8550/10000 [3:12:17<39:32,  1.64s/it]"
     ]
    },
    {
     "name": "stdout",
     "output_type": "stream",
     "text": [
      "\n",
      "Unexpected error processing batch starting at index 8549: too many values to unpack (expected 2)\n"
     ]
    },
    {
     "name": "stderr",
     "output_type": "stream",
     "text": [
      "Assigning topics:  86%|████████▋ | 8636/10000 [3:14:16<42:44,  1.88s/it]  "
     ]
    },
    {
     "name": "stdout",
     "output_type": "stream",
     "text": [
      "\n",
      "Unexpected error processing batch starting at index 8635: too many values to unpack (expected 2)\n"
     ]
    },
    {
     "name": "stderr",
     "output_type": "stream",
     "text": [
      "Assigning topics:  89%|████████▉ | 8889/10000 [3:19:57<26:26,  1.43s/it]  "
     ]
    },
    {
     "name": "stdout",
     "output_type": "stream",
     "text": [
      "\n",
      "Unexpected error processing batch starting at index 8888: too many values to unpack (expected 2)\n"
     ]
    },
    {
     "name": "stderr",
     "output_type": "stream",
     "text": [
      "Assigning topics:  91%|█████████ | 9115/10000 [3:24:41<19:29,  1.32s/it]"
     ]
    },
    {
     "name": "stdout",
     "output_type": "stream",
     "text": [
      "\n",
      "Unexpected error processing batch starting at index 9114: too many values to unpack (expected 2)\n"
     ]
    },
    {
     "name": "stderr",
     "output_type": "stream",
     "text": [
      "Assigning topics:  91%|█████████▏| 9137/10000 [3:25:10<25:49,  1.80s/it]"
     ]
    },
    {
     "name": "stdout",
     "output_type": "stream",
     "text": [
      "\n",
      "Unexpected error processing batch starting at index 9136: too many values to unpack (expected 2)\n"
     ]
    },
    {
     "name": "stderr",
     "output_type": "stream",
     "text": [
      "Assigning topics:  92%|█████████▏| 9153/10000 [3:25:32<20:05,  1.42s/it]"
     ]
    },
    {
     "name": "stdout",
     "output_type": "stream",
     "text": [
      "\n",
      "Unexpected error processing batch starting at index 9152: too many values to unpack (expected 2)\n"
     ]
    },
    {
     "name": "stderr",
     "output_type": "stream",
     "text": [
      "Assigning topics:  94%|█████████▍| 9395/10000 [3:30:52<14:41,  1.46s/it]"
     ]
    },
    {
     "name": "stdout",
     "output_type": "stream",
     "text": [
      "\n",
      "Unexpected error processing batch starting at index 9394: too many values to unpack (expected 2)\n"
     ]
    },
    {
     "name": "stderr",
     "output_type": "stream",
     "text": [
      "Assigning topics:  95%|█████████▍| 9466/10000 [3:32:30<14:12,  1.60s/it]"
     ]
    },
    {
     "name": "stdout",
     "output_type": "stream",
     "text": [
      "\n",
      "Unexpected error processing batch starting at index 9465: too many values to unpack (expected 2)\n"
     ]
    },
    {
     "name": "stderr",
     "output_type": "stream",
     "text": [
      "Assigning topics:  95%|█████████▍| 9472/10000 [3:32:38<13:16,  1.51s/it]"
     ]
    },
    {
     "name": "stdout",
     "output_type": "stream",
     "text": [
      "\n",
      "Unexpected error processing batch starting at index 9471: too many values to unpack (expected 2)\n"
     ]
    },
    {
     "name": "stderr",
     "output_type": "stream",
     "text": [
      "Assigning topics:  95%|█████████▌| 9546/10000 [3:34:26<14:57,  1.98s/it]"
     ]
    },
    {
     "name": "stdout",
     "output_type": "stream",
     "text": [
      "\n",
      "Unexpected error processing batch starting at index 9545: too many values to unpack (expected 2)\n"
     ]
    },
    {
     "name": "stderr",
     "output_type": "stream",
     "text": [
      "Assigning topics:  96%|█████████▌| 9560/10000 [3:34:45<12:17,  1.68s/it]"
     ]
    },
    {
     "name": "stdout",
     "output_type": "stream",
     "text": [
      "\n",
      "Unexpected error processing batch starting at index 9559: too many values to unpack (expected 2)\n"
     ]
    },
    {
     "name": "stderr",
     "output_type": "stream",
     "text": [
      "Assigning topics:  96%|█████████▌| 9569/10000 [3:34:56<09:56,  1.38s/it]"
     ]
    },
    {
     "name": "stdout",
     "output_type": "stream",
     "text": [
      "\n",
      "Unexpected error processing batch starting at index 9568: not enough values to unpack (expected 2, got 1)\n"
     ]
    },
    {
     "name": "stderr",
     "output_type": "stream",
     "text": [
      "Assigning topics:  96%|█████████▌| 9608/10000 [3:35:48<10:01,  1.53s/it]"
     ]
    },
    {
     "name": "stdout",
     "output_type": "stream",
     "text": [
      "\n",
      "Unexpected error processing batch starting at index 9607: too many values to unpack (expected 2)\n"
     ]
    },
    {
     "name": "stderr",
     "output_type": "stream",
     "text": [
      "Assigning topics:  97%|█████████▋| 9668/10000 [3:37:11<11:12,  2.03s/it]"
     ]
    },
    {
     "name": "stdout",
     "output_type": "stream",
     "text": [
      "\n",
      "Unexpected error processing batch starting at index 9667: too many values to unpack (expected 2)\n"
     ]
    },
    {
     "name": "stderr",
     "output_type": "stream",
     "text": [
      "Assigning topics:  97%|█████████▋| 9676/10000 [3:37:23<08:12,  1.52s/it]"
     ]
    },
    {
     "name": "stdout",
     "output_type": "stream",
     "text": [
      "\n",
      "Unexpected error processing batch starting at index 9675: too many values to unpack (expected 2)\n"
     ]
    },
    {
     "name": "stderr",
     "output_type": "stream",
     "text": [
      "Assigning topics:  97%|█████████▋| 9701/10000 [3:38:00<08:20,  1.67s/it]"
     ]
    },
    {
     "name": "stdout",
     "output_type": "stream",
     "text": [
      "\n",
      "Unexpected error processing batch starting at index 9700: too many values to unpack (expected 2)\n"
     ]
    },
    {
     "name": "stderr",
     "output_type": "stream",
     "text": [
      "Assigning topics:  98%|█████████▊| 9754/10000 [3:39:15<05:51,  1.43s/it]"
     ]
    },
    {
     "name": "stdout",
     "output_type": "stream",
     "text": [
      "\n",
      "Unexpected error processing batch starting at index 9753: too many values to unpack (expected 2)\n"
     ]
    },
    {
     "name": "stderr",
     "output_type": "stream",
     "text": [
      "Assigning topics:  99%|█████████▉| 9901/10000 [3:42:34<02:32,  1.54s/it]"
     ]
    },
    {
     "name": "stdout",
     "output_type": "stream",
     "text": [
      "\n",
      "Unexpected error processing batch starting at index 9900: too many values to unpack (expected 2)\n"
     ]
    },
    {
     "name": "stderr",
     "output_type": "stream",
     "text": [
      "Assigning topics:  99%|█████████▉| 9942/10000 [3:43:29<01:31,  1.58s/it]"
     ]
    },
    {
     "name": "stdout",
     "output_type": "stream",
     "text": [
      "\n",
      "Unexpected error processing batch starting at index 9941: too many values to unpack (expected 2)\n"
     ]
    },
    {
     "name": "stderr",
     "output_type": "stream",
     "text": [
      "Assigning topics: 100%|█████████▉| 9964/10000 [3:44:01<01:00,  1.69s/it]"
     ]
    },
    {
     "name": "stdout",
     "output_type": "stream",
     "text": [
      "\n",
      "Unexpected error processing batch starting at index 9963: too many values to unpack (expected 2)\n"
     ]
    },
    {
     "name": "stderr",
     "output_type": "stream",
     "text": [
      "Assigning topics: 100%|██████████| 10000/10000 [3:45:00<00:00,  1.35s/it]\n"
     ]
    }
   ],
   "source": [
    "amazon_reviews_with_topics = assign_topics_in_batches(\n",
    "    amazon_reviews,\n",
    "    topics=str(proper_topics),\n",
    "    batch_size=1,\n",
    "    llm=llm\n",
    ")"
   ]
  },
  {
   "cell_type": "code",
   "execution_count": 27,
   "metadata": {},
   "outputs": [],
   "source": [
    "amazon_reviews_with_topics.to_csv('outputs/amazon_reviews_with_topics_10000.csv', index=False)"
   ]
  },
  {
   "cell_type": "code",
   "execution_count": 28,
   "metadata": {},
   "outputs": [
    {
     "data": {
      "text/plain": [
       "Topic\n",
       "Sound & Performance          2156\n",
       "Functionality & Usability    1775\n",
       "Durability                   1102\n",
       "Product Quality              1017\n",
       "Price & Value                 753\n",
       "Aesthetics                    435\n",
       "Usage Experience              419\n",
       "User Experience               362\n",
       "Customer Experience           311\n",
       "Size & Portability            306\n",
       "Technical Aspects             299\n",
       "Compatibility                 245\n",
       "Gift Giving                   199\n",
       "Shipping & Delivery           188\n",
       "Comfort & Design              152\n",
       "Unknown                       109\n",
       "Learning Curve                104\n",
       "Target Audience                33\n",
       "Emotional Response             18\n",
       "Brand Perception               13\n",
       "Customer Service                3\n",
       "Battery Life                    1\n",
       "Name: count, dtype: int64"
      ]
     },
     "execution_count": 28,
     "metadata": {},
     "output_type": "execute_result"
    }
   ],
   "source": [
    "amazon_reviews_with_topics['Topic'].value_counts()"
   ]
  },
  {
   "cell_type": "code",
   "execution_count": 35,
   "metadata": {},
   "outputs": [],
   "source": [
    "amazon_reviews_with_topics = pd.read_csv('outputs/amazon_reviews_with_topics_10000.csv')"
   ]
  },
  {
   "cell_type": "code",
   "execution_count": 42,
   "metadata": {},
   "outputs": [],
   "source": [
    "def resolve_unkown(df, topics, llm=None):\n",
    "    \"\"\"\n",
    "    Resolve 'Unknown' topics and sentiments in Amazon reviews DataFrame.\n",
    "\n",
    "    Parameters:\n",
    "    df (pd.DataFrame): DataFrame containing Amazon reviews with 'Unknown' topics and sentiments\n",
    "    llm: The language model instance to use for resolving topics and sentiments\n",
    "\n",
    "    Returns:\n",
    "    pd.DataFrame: Updated DataFrame with resolved topics and sentiments\n",
    "    \"\"\"\n",
    "    if llm is None:\n",
    "        raise ValueError(\"LLM instance must be provided\")\n",
    "\n",
    "    # Create a copy of the DataFrame to avoid modifying the original\n",
    "    df_resolved = df.copy()\n",
    "\n",
    "    # Get indices of rows with 'Unknown' topics and sentiments\n",
    "    unknown_indices = df_resolved[(df_resolved['Topic'] == 'Unknown') | (df_resolved['Sentiment'] == 'Unknown')].index\n",
    "\n",
    "    # Resolve 'Unknown' topics and sentiments\n",
    "    for idx in tqdm(unknown_indices, desc=\"Resolving Unknowns\"):\n",
    "        review = df_resolved.loc[idx, 'Reviews']\n",
    "        \n",
    "        # Generate prompt for current review\n",
    "        prompt_assigning_prompt = f'''You are provided with amazon reviews and helping to classify the reviews based on the topics.\n",
    "Please thoroghly read the amazon review below and assign the proper topic (from the list of topics) and sentiment (Positive, Negative or Neutral) to the review.\n",
    "List of Topics: {topics}\n",
    "Amazon Review: {review}\n",
    "Please return in CSV format only one topic and one sentiment for respective review and nothing else. So only 1 coma. Do not use triple backtick blocks. Only output exactly as on the example below:\n",
    "Example: Some happy review from customer.\n",
    "Output: Selected Topic, Positive\n",
    "'''\n",
    "        # Get assignments for current review\n",
    "        result = llm.invoke(prompt_assigning_prompt, temperature=0.0)\n",
    "        try:\n",
    "            topic, sentiment = [topic.strip() for topic in result.split(',')]\n",
    "            df_resolved.at[idx, 'Topic'] = topic\n",
    "            df_resolved.at[idx, 'Sentiment'] = sentiment\n",
    "        except Exception as e:\n",
    "            print(f\"\\nUnexpected error processing review at index {idx}: {str(e)}\")\n",
    "            continue\n",
    "    return df_resolved"
   ]
  },
  {
   "cell_type": "markdown",
   "metadata": {},
   "source": [
    "Resolving errors (Usually it's empty rows)"
   ]
  },
  {
   "cell_type": "code",
   "execution_count": 43,
   "metadata": {},
   "outputs": [
    {
     "name": "stderr",
     "output_type": "stream",
     "text": [
      "Resolving Unknowns:   1%|          | 1/109 [00:01<02:16,  1.26s/it]"
     ]
    },
    {
     "name": "stdout",
     "output_type": "stream",
     "text": [
      "\n",
      "Unexpected error processing review at index 239: not enough values to unpack (expected 2, got 1)\n"
     ]
    },
    {
     "name": "stderr",
     "output_type": "stream",
     "text": [
      "Resolving Unknowns:   5%|▍         | 5/109 [00:05<01:49,  1.05s/it]"
     ]
    },
    {
     "name": "stdout",
     "output_type": "stream",
     "text": [
      "\n",
      "Unexpected error processing review at index 591: not enough values to unpack (expected 2, got 1)\n"
     ]
    },
    {
     "name": "stderr",
     "output_type": "stream",
     "text": [
      "Resolving Unknowns:  10%|█         | 11/109 [00:14<01:58,  1.21s/it]"
     ]
    },
    {
     "name": "stdout",
     "output_type": "stream",
     "text": [
      "\n",
      "Unexpected error processing review at index 1496: not enough values to unpack (expected 2, got 1)\n"
     ]
    },
    {
     "name": "stderr",
     "output_type": "stream",
     "text": [
      "Resolving Unknowns:  13%|█▎        | 14/109 [00:16<01:36,  1.02s/it]"
     ]
    },
    {
     "name": "stdout",
     "output_type": "stream",
     "text": [
      "\n",
      "Unexpected error processing review at index 1865: not enough values to unpack (expected 2, got 1)\n"
     ]
    },
    {
     "name": "stderr",
     "output_type": "stream",
     "text": [
      "Resolving Unknowns:  17%|█▋        | 18/109 [00:21<01:51,  1.23s/it]"
     ]
    },
    {
     "name": "stdout",
     "output_type": "stream",
     "text": [
      "\n",
      "Unexpected error processing review at index 2207: not enough values to unpack (expected 2, got 1)\n"
     ]
    },
    {
     "name": "stderr",
     "output_type": "stream",
     "text": [
      "Resolving Unknowns:  30%|███       | 33/109 [00:46<01:17,  1.02s/it]"
     ]
    },
    {
     "name": "stdout",
     "output_type": "stream",
     "text": [
      "\n",
      "Unexpected error processing review at index 3255: not enough values to unpack (expected 2, got 1)\n"
     ]
    },
    {
     "name": "stderr",
     "output_type": "stream",
     "text": [
      "Resolving Unknowns:  36%|███▌      | 39/109 [00:54<01:15,  1.07s/it]"
     ]
    },
    {
     "name": "stdout",
     "output_type": "stream",
     "text": [
      "\n",
      "Unexpected error processing review at index 3639: not enough values to unpack (expected 2, got 1)\n"
     ]
    },
    {
     "name": "stderr",
     "output_type": "stream",
     "text": [
      "Resolving Unknowns:  40%|████      | 44/109 [01:00<01:23,  1.28s/it]"
     ]
    },
    {
     "name": "stdout",
     "output_type": "stream",
     "text": [
      "\n",
      "Unexpected error processing review at index 4343: too many values to unpack (expected 2)\n"
     ]
    },
    {
     "name": "stderr",
     "output_type": "stream",
     "text": [
      "Resolving Unknowns:  93%|█████████▎| 101/109 [02:03<00:08,  1.08s/it]"
     ]
    },
    {
     "name": "stdout",
     "output_type": "stream",
     "text": [
      "\n",
      "Unexpected error processing review at index 9568: not enough values to unpack (expected 2, got 1)\n"
     ]
    },
    {
     "name": "stderr",
     "output_type": "stream",
     "text": [
      "Resolving Unknowns: 100%|██████████| 109/109 [02:10<00:00,  1.20s/it]\n"
     ]
    }
   ],
   "source": [
    "# Resolving\n",
    "amazon_reviews_resolved = resolve_unkown(amazon_reviews_with_topics, topics=proper_topics, llm=llm)"
   ]
  },
  {
   "cell_type": "code",
   "execution_count": 45,
   "metadata": {},
   "outputs": [
    {
     "data": {
      "text/plain": [
       "Sentiment\n",
       "Positive               7295\n",
       "Negative               2105\n",
       "Neutral                 590\n",
       "Unknown                   9\n",
       "Customer Experience       1\n",
       "Name: count, dtype: int64"
      ]
     },
     "execution_count": 45,
     "metadata": {},
     "output_type": "execute_result"
    }
   ],
   "source": [
    "amazon_reviews_resolved['Sentiment'].value_counts()"
   ]
  },
  {
   "cell_type": "code",
   "execution_count": 49,
   "metadata": {},
   "outputs": [],
   "source": [
    "amazon_reviews_resolved.to_csv('outputs/amazon_reviews_with_topics_10000_resolved.csv', index=False)"
   ]
  },
  {
   "cell_type": "code",
   "execution_count": 2,
   "metadata": {},
   "outputs": [],
   "source": [
    "amazon_reviews_resolved = pd.read_csv('outputs/amazon_reviews_with_topics_10000_resolved.csv')"
   ]
  },
  {
   "cell_type": "code",
   "execution_count": 52,
   "metadata": {},
   "outputs": [
    {
     "data": {
      "text/html": [
       "<div>\n",
       "<style scoped>\n",
       "    .dataframe tbody tr th:only-of-type {\n",
       "        vertical-align: middle;\n",
       "    }\n",
       "\n",
       "    .dataframe tbody tr th {\n",
       "        vertical-align: top;\n",
       "    }\n",
       "\n",
       "    .dataframe thead th {\n",
       "        text-align: right;\n",
       "    }\n",
       "</style>\n",
       "<table border=\"1\" class=\"dataframe\">\n",
       "  <thead>\n",
       "    <tr style=\"text-align: right;\">\n",
       "      <th></th>\n",
       "      <th>Reviews</th>\n",
       "      <th>Ratings</th>\n",
       "      <th>Topic</th>\n",
       "      <th>Sentiment</th>\n",
       "    </tr>\n",
       "  </thead>\n",
       "  <tbody>\n",
       "    <tr>\n",
       "      <th>239</th>\n",
       "      <td>NaN</td>\n",
       "      <td>5.0</td>\n",
       "      <td>Unknown</td>\n",
       "      <td>Unknown</td>\n",
       "    </tr>\n",
       "    <tr>\n",
       "      <th>591</th>\n",
       "      <td>10 points</td>\n",
       "      <td>5.0</td>\n",
       "      <td>Unknown</td>\n",
       "      <td>Unknown</td>\n",
       "    </tr>\n",
       "    <tr>\n",
       "      <th>1496</th>\n",
       "      <td>A</td>\n",
       "      <td>5.0</td>\n",
       "      <td>Unknown</td>\n",
       "      <td>Unknown</td>\n",
       "    </tr>\n",
       "    <tr>\n",
       "      <th>1865</th>\n",
       "      <td>NaN</td>\n",
       "      <td>5.0</td>\n",
       "      <td>Unknown</td>\n",
       "      <td>Unknown</td>\n",
       "    </tr>\n",
       "    <tr>\n",
       "      <th>2207</th>\n",
       "      <td>NaN</td>\n",
       "      <td>5.0</td>\n",
       "      <td>Unknown</td>\n",
       "      <td>Unknown</td>\n",
       "    </tr>\n",
       "    <tr>\n",
       "      <th>3255</th>\n",
       "      <td>Nimrod</td>\n",
       "      <td>5.0</td>\n",
       "      <td>Unknown</td>\n",
       "      <td>Unknown</td>\n",
       "    </tr>\n",
       "    <tr>\n",
       "      <th>3639</th>\n",
       "      <td>Regular</td>\n",
       "      <td>4.0</td>\n",
       "      <td>Unknown</td>\n",
       "      <td>Unknown</td>\n",
       "    </tr>\n",
       "    <tr>\n",
       "      <th>4343</th>\n",
       "      <td>Bought this and a $5 Yamaha plastic recorder f...</td>\n",
       "      <td>5.0</td>\n",
       "      <td>Unknown</td>\n",
       "      <td>Unknown</td>\n",
       "    </tr>\n",
       "    <tr>\n",
       "      <th>9568</th>\n",
       "      <td>Hayden</td>\n",
       "      <td>5.0</td>\n",
       "      <td>Unknown</td>\n",
       "      <td>Unknown</td>\n",
       "    </tr>\n",
       "  </tbody>\n",
       "</table>\n",
       "</div>"
      ],
      "text/plain": [
       "                                                Reviews  Ratings    Topic  \\\n",
       "239                                                 NaN      5.0  Unknown   \n",
       "591                                           10 points      5.0  Unknown   \n",
       "1496                                                  A      5.0  Unknown   \n",
       "1865                                                NaN      5.0  Unknown   \n",
       "2207                                                NaN      5.0  Unknown   \n",
       "3255                                             Nimrod      5.0  Unknown   \n",
       "3639                                            Regular      4.0  Unknown   \n",
       "4343  Bought this and a $5 Yamaha plastic recorder f...      5.0  Unknown   \n",
       "9568                                             Hayden      5.0  Unknown   \n",
       "\n",
       "     Sentiment  \n",
       "239    Unknown  \n",
       "591    Unknown  \n",
       "1496   Unknown  \n",
       "1865   Unknown  \n",
       "2207   Unknown  \n",
       "3255   Unknown  \n",
       "3639   Unknown  \n",
       "4343   Unknown  \n",
       "9568   Unknown  "
      ]
     },
     "execution_count": 52,
     "metadata": {},
     "output_type": "execute_result"
    }
   ],
   "source": [
    "amazon_reviews_resolved[amazon_reviews_resolved['Sentiment'] == 'Unknown']"
   ]
  },
  {
   "cell_type": "markdown",
   "metadata": {},
   "source": [
    "### Checking accuracy of Sentiment"
   ]
  },
  {
   "cell_type": "code",
   "execution_count": 53,
   "metadata": {},
   "outputs": [
    {
     "data": {
      "text/plain": [
       "Sentiment\n",
       "Positive               7295\n",
       "Negative               2105\n",
       "Neutral                 590\n",
       "Unknown                   9\n",
       "Customer Experience       1\n",
       "Name: count, dtype: int64"
      ]
     },
     "execution_count": 53,
     "metadata": {},
     "output_type": "execute_result"
    }
   ],
   "source": [
    "amazon_reviews_resolved['Sentiment'].value_counts()"
   ]
  },
  {
   "cell_type": "code",
   "execution_count": 54,
   "metadata": {},
   "outputs": [
    {
     "data": {
      "text/plain": [
       "Ratings\n",
       "5.0    6431\n",
       "4.0    1580\n",
       "1.0     807\n",
       "3.0     741\n",
       "2.0     441\n",
       "Name: count, dtype: int64"
      ]
     },
     "execution_count": 54,
     "metadata": {},
     "output_type": "execute_result"
    }
   ],
   "source": [
    "amazon_reviews_resolved['Ratings'].value_counts()"
   ]
  },
  {
   "cell_type": "code",
   "execution_count": 55,
   "metadata": {},
   "outputs": [],
   "source": [
    "# Create a function to map Sentiment to Rating categories\n",
    "def map_sentiment_to_rating(sentiment):\n",
    "    if sentiment == 'Positive':\n",
    "        return [4, 5]\n",
    "    elif sentiment == 'Negative':\n",
    "        return [1, 2]\n",
    "    elif sentiment == 'Neutral':\n",
    "        return [3]\n",
    "    else:\n",
    "        return []\n",
    "\n",
    "# Check if the sentiment matches the label\n",
    "def is_correct_prediction(row):\n",
    "    possible_ratings = map_sentiment_to_rating(row['Sentiment'])\n",
    "    return row['Ratings'] in possible_ratings\n",
    "\n",
    "# Apply the function to check correctness\n",
    "amazon_reviews_resolved[\"correct_sentiment\"] = amazon_reviews_resolved.apply(is_correct_prediction, axis=1)\n"
   ]
  },
  {
   "cell_type": "code",
   "execution_count": 64,
   "metadata": {},
   "outputs": [
    {
     "name": "stdout",
     "output_type": "stream",
     "text": [
      "\n",
      "Positive Sentiment:\n",
      "True Positive: 7202\n",
      "False Positive: 93\n",
      "False Negative: 809\n",
      "True Negative: 1374\n",
      "Precision: 0.987\n",
      "Recall: 0.899\n",
      "F1 Score: 0.941\n",
      "Accuracy: 0.905\n",
      "\n",
      "Negative Sentiment:\n",
      "True Positive: 1231\n",
      "False Positive: 874\n",
      "False Negative: 17\n",
      "True Negative: 7345\n",
      "Precision: 0.585\n",
      "Recall: 0.986\n",
      "F1 Score: 0.734\n",
      "Accuracy: 0.906\n",
      "\n",
      "Neutral Sentiment:\n",
      "True Positive: 143\n",
      "False Positive: 447\n",
      "False Negative: 598\n",
      "True Negative: 8433\n",
      "Precision: 0.242\n",
      "Recall: 0.193\n",
      "F1 Score: 0.215\n",
      "Accuracy: 0.891\n"
     ]
    }
   ],
   "source": [
    "# Create a function to map Sentiment to Rating categories\n",
    "def map_sentiment_to_rating(sentiment):\n",
    "    if sentiment == 'Positive':\n",
    "        return [4, 5]\n",
    "    elif sentiment == 'Negative':\n",
    "        return [1, 2]\n",
    "    elif sentiment == 'Neutral':\n",
    "        return [3]\n",
    "    else:\n",
    "        return []\n",
    "\n",
    "# Check if the sentiment matches the label\n",
    "def is_correct_prediction(row):\n",
    "    possible_ratings = map_sentiment_to_rating(row['Sentiment'])\n",
    "    return row['Ratings'] in possible_ratings\n",
    "\n",
    "def calculate_metrics(df, target_sentiment):\n",
    "    \"\"\"\n",
    "    Calculate classification metrics for a specific sentiment class\n",
    "    Returns: Dictionary containing TP, FP, FN, TN, Precision, Recall, F1 Score, and Accuracy\n",
    "    \"\"\"\n",
    "    # Apply the function to check correctness if not already done\n",
    "    if 'correct_sentiment' not in df.columns:\n",
    "        df['correct_sentiment'] = df.apply(is_correct_prediction, axis=1)\n",
    "    \n",
    "    # True Positives: Sentiment is correctly predicted as the target class\n",
    "    true_positive = len(df[\n",
    "        (df['Sentiment'] == target_sentiment) & \n",
    "        (df['correct_sentiment'] == True)\n",
    "    ])\n",
    "    \n",
    "    # False Positives: Sentiment is incorrectly predicted as the target class\n",
    "    false_positive = len(df[\n",
    "        (df['Sentiment'] == target_sentiment) & \n",
    "        (df['correct_sentiment'] == False)\n",
    "    ])\n",
    "    \n",
    "    # False Negatives: Actual ratings fall in target sentiment range but different sentiment predicted\n",
    "    target_ratings = map_sentiment_to_rating(target_sentiment)\n",
    "    false_negative = len(df[\n",
    "        (df['Ratings'].isin(target_ratings)) & \n",
    "        (df['Sentiment'] != target_sentiment)\n",
    "    ])\n",
    "    \n",
    "    # True Negatives: Neither the ratings nor the predicted sentiment match the target class\n",
    "    true_negative = len(df[\n",
    "        (~df['Ratings'].isin(target_ratings)) & \n",
    "        (df['Sentiment'] != target_sentiment) & \n",
    "        (df['correct_sentiment'] == True)\n",
    "    ])\n",
    "    \n",
    "    # Calculate additional metrics\n",
    "    # Prevent division by zero\n",
    "    precision = true_positive / (true_positive + false_positive) if (true_positive + false_positive) > 0 else 0\n",
    "    recall = true_positive / (true_positive + false_negative) if (true_positive + false_negative) > 0 else 0\n",
    "    f1_score = 2 * (precision * recall) / (precision + recall) if (precision + recall) > 0 else 0\n",
    "    accuracy = (true_positive + true_negative) / (true_positive + true_negative + false_positive + false_negative)\n",
    "    \n",
    "    return {\n",
    "        'true_positive': true_positive,\n",
    "        'false_positive': false_positive,\n",
    "        'false_negative': false_negative,\n",
    "        'true_negative': true_negative,\n",
    "        'precision': precision,\n",
    "        'recall': recall,\n",
    "        'f1_score': f1_score,\n",
    "        'accuracy': accuracy\n",
    "    }\n",
    "\n",
    "# Calculate and display metrics for each sentiment\n",
    "for sentiment in ['Positive', 'Negative', 'Neutral']:\n",
    "    metrics = calculate_metrics(amazon_reviews_resolved, sentiment)\n",
    "    print(f\"\\n{sentiment} Sentiment:\")\n",
    "    print(f\"True Positive: {metrics['true_positive']}\")\n",
    "    print(f\"False Positive: {metrics['false_positive']}\")\n",
    "    print(f\"False Negative: {metrics['false_negative']}\")\n",
    "    print(f\"True Negative: {metrics['true_negative']}\")\n",
    "    print(f\"Precision: {metrics['precision']:.3f}\")\n",
    "    print(f\"Recall: {metrics['recall']:.3f}\")\n",
    "    print(f\"F1 Score: {metrics['f1_score']:.3f}\")\n",
    "    print(f\"Accuracy: {metrics['accuracy']:.3f}\")"
   ]
  },
  {
   "cell_type": "code",
   "execution_count": 65,
   "metadata": {},
   "outputs": [
    {
     "data": {
      "text/plain": [
       "Topic\n",
       "Sound & Performance          2170\n",
       "Functionality & Usability    1783\n",
       "Durability                   1107\n",
       "Product Quality              1046\n",
       "Price & Value                 759\n",
       "Aesthetics                    455\n",
       "Usage Experience              420\n",
       "User Experience               365\n",
       "Customer Experience           313\n",
       "Size & Portability            306\n",
       "Technical Aspects             304\n",
       "Compatibility                 245\n",
       "Gift Giving                   201\n",
       "Shipping & Delivery           190\n",
       "Comfort & Design              154\n",
       "Learning Curve                104\n",
       "Target Audience                33\n",
       "Emotional Response             18\n",
       "Brand Perception               13\n",
       "Unknown                         9\n",
       "Customer Service                3\n",
       "Sound Quality                   1\n",
       "Battery Life                    1\n",
       "Name: count, dtype: int64"
      ]
     },
     "execution_count": 65,
     "metadata": {},
     "output_type": "execute_result"
    }
   ],
   "source": [
    "amazon_reviews_resolved['Topic'].value_counts()"
   ]
  },
  {
   "cell_type": "markdown",
   "metadata": {},
   "source": [
    "### Checking Accuracy of predicted topics"
   ]
  },
  {
   "cell_type": "code",
   "execution_count": 68,
   "metadata": {},
   "outputs": [],
   "source": [
    "N = 10000  # population size\n",
    "z = 1.96   # z-score for 95% confidence\n",
    "p = 0.5    # maximum variance\n",
    "q = 1 - p  # 0.5\n",
    "d = 0.05   # margin of error\n",
    "\n",
    "n = (N * z**2 * p * q) / (d**2 * (N-1) + z**2 * p * q)"
   ]
  },
  {
   "cell_type": "code",
   "execution_count": 69,
   "metadata": {},
   "outputs": [
    {
     "data": {
      "text/plain": [
       "369.983704382866"
      ]
     },
     "execution_count": 69,
     "metadata": {},
     "output_type": "execute_result"
    }
   ],
   "source": [
    "n"
   ]
  },
  {
   "cell_type": "markdown",
   "metadata": {},
   "source": [
    "This means that we need to check 370 rows manually to be 95% sure that our accuracy is close to real accuracy."
   ]
  },
  {
   "cell_type": "code",
   "execution_count": 72,
   "metadata": {},
   "outputs": [],
   "source": [
    "review_sample = amazon_reviews_resolved.sample(370, random_state=42)"
   ]
  },
  {
   "cell_type": "code",
   "execution_count": 74,
   "metadata": {},
   "outputs": [],
   "source": [
    "review_sample.to_excel('outputs/amazon_reviews_sample_370.xlsx')"
   ]
  },
  {
   "cell_type": "code",
   "execution_count": 5,
   "metadata": {},
   "outputs": [
    {
     "name": "stdout",
     "output_type": "stream",
     "text": [
      "\n",
      "Positive Sentiment Metrics:\n",
      "True Positive: 7202\n",
      "False Positive: 93\n",
      "False Negative: 809\n",
      "True Negative: 1374\n",
      "Precision: 0.987\n",
      "Recall: 0.899\n",
      "F1 Score: 0.941\n",
      "Accuracy: 0.905\n",
      "\n",
      "Negative Sentiment Metrics:\n",
      "True Positive: 1231\n",
      "False Positive: 874\n",
      "False Negative: 17\n",
      "True Negative: 7345\n",
      "Precision: 0.585\n",
      "Recall: 0.986\n",
      "F1 Score: 0.734\n",
      "Accuracy: 0.906\n",
      "\n",
      "Neutral Sentiment Metrics:\n",
      "True Positive: 143\n",
      "False Positive: 447\n",
      "False Negative: 598\n",
      "True Negative: 8433\n",
      "Precision: 0.242\n",
      "Recall: 0.193\n",
      "F1 Score: 0.215\n",
      "Accuracy: 0.891\n",
      "\n",
      "Weighted Metrics:\n",
      "Weighted Precision: 0.858\n",
      "Weighted Recall: 0.875\n",
      "Weighted F1 Score: 0.854\n",
      "Weighted Accuracy: 0.903\n"
     ]
    }
   ],
   "source": [
    "import pandas as pd\n",
    "import numpy as np\n",
    "\n",
    "def map_sentiment_to_rating(sentiment):\n",
    "    if sentiment == 'Positive':\n",
    "        return [4, 5]\n",
    "    elif sentiment == 'Negative':\n",
    "        return [1, 2]\n",
    "    elif sentiment == 'Neutral':\n",
    "        return [3]\n",
    "    else:\n",
    "        return []\n",
    "\n",
    "def is_correct_prediction(row):\n",
    "    possible_ratings = map_sentiment_to_rating(row['Sentiment'])\n",
    "    return row['Ratings'] in possible_ratings\n",
    "\n",
    "def calculate_metrics(df, target_sentiment):\n",
    "    \"\"\"\n",
    "    Calculate classification metrics for a specific sentiment class\n",
    "    Returns: Dictionary containing TP, FP, FN, TN, Precision, Recall, F1 Score, and Accuracy\n",
    "    \"\"\"\n",
    "    # Apply the function to check correctness if not already done\n",
    "    if 'correct_sentiment' not in df.columns:\n",
    "        df['correct_sentiment'] = df.apply(is_correct_prediction, axis=1)\n",
    "    \n",
    "    # True Positives: Sentiment is correctly predicted as the target class\n",
    "    true_positive = len(df[\n",
    "        (df['Sentiment'] == target_sentiment) & \n",
    "        (df['correct_sentiment'] == True)\n",
    "    ])\n",
    "    \n",
    "    # False Positives: Sentiment is incorrectly predicted as the target class\n",
    "    false_positive = len(df[\n",
    "        (df['Sentiment'] == target_sentiment) & \n",
    "        (df['correct_sentiment'] == False)\n",
    "    ])\n",
    "    \n",
    "    # False Negatives: Actual ratings fall in target sentiment range but different sentiment predicted\n",
    "    target_ratings = map_sentiment_to_rating(target_sentiment)\n",
    "    false_negative = len(df[\n",
    "        (df['Ratings'].isin(target_ratings)) & \n",
    "        (df['Sentiment'] != target_sentiment)\n",
    "    ])\n",
    "    \n",
    "    # True Negatives: Neither the ratings nor the predicted sentiment match the target class\n",
    "    true_negative = len(df[\n",
    "        (~df['Ratings'].isin(target_ratings)) & \n",
    "        (df['Sentiment'] != target_sentiment) & \n",
    "        (df['correct_sentiment'] == True)\n",
    "    ])\n",
    "    \n",
    "    # Calculate metrics with error handling\n",
    "    precision = true_positive / (true_positive + false_positive) if (true_positive + false_positive) > 0 else 0\n",
    "    recall = true_positive / (true_positive + false_negative) if (true_positive + false_negative) > 0 else 0\n",
    "    f1_score = 2 * (precision * recall) / (precision + recall) if (precision + recall) > 0 else 0\n",
    "    accuracy = (true_positive + true_negative) / (true_positive + true_negative + false_positive + false_negative)\n",
    "    \n",
    "    return {\n",
    "        'true_positive': true_positive,\n",
    "        'false_positive': false_positive,\n",
    "        'false_negative': false_negative,\n",
    "        'true_negative': true_negative,\n",
    "        'precision': precision,\n",
    "        'recall': recall,\n",
    "        'f1_score': f1_score,\n",
    "        'accuracy': accuracy\n",
    "    }\n",
    "\n",
    "def print_all_metrics(df):\n",
    "    \"\"\"\n",
    "    Calculate and display metrics for all sentiment classes and weighted averages\n",
    "    \"\"\"\n",
    "    sentiments = ['Positive', 'Negative', 'Neutral']\n",
    "    all_metrics = {}\n",
    "    total_samples = len(df)\n",
    "    \n",
    "    # Calculate metrics for each sentiment\n",
    "    for sentiment in sentiments:\n",
    "        metrics = calculate_metrics(df, sentiment)\n",
    "        all_metrics[sentiment] = metrics\n",
    "        \n",
    "        print(f\"\\n{sentiment} Sentiment Metrics:\")\n",
    "        print(f\"True Positive: {metrics['true_positive']}\")\n",
    "        print(f\"False Positive: {metrics['false_positive']}\")\n",
    "        print(f\"False Negative: {metrics['false_negative']}\")\n",
    "        print(f\"True Negative: {metrics['true_negative']}\")\n",
    "        print(f\"Precision: {metrics['precision']:.3f}\")\n",
    "        print(f\"Recall: {metrics['recall']:.3f}\")\n",
    "        print(f\"F1 Score: {metrics['f1_score']:.3f}\")\n",
    "        print(f\"Accuracy: {metrics['accuracy']:.3f}\")\n",
    "    \n",
    "    # Calculate weighted averages\n",
    "    class_weights = {sentiment: len(df[df['Sentiment'] == sentiment]) / total_samples \n",
    "                    for sentiment in sentiments}\n",
    "    weighted_precision = sum(metrics['precision'] * class_weights[sentiment] \n",
    "                           for sentiment, metrics in all_metrics.items())\n",
    "    weighted_recall = sum(metrics['recall'] * class_weights[sentiment] \n",
    "                         for sentiment, metrics in all_metrics.items())\n",
    "    weighted_f1 = sum(metrics['f1_score'] * class_weights[sentiment] \n",
    "                     for sentiment, metrics in all_metrics.items())\n",
    "    weighted_accuracy = sum(metrics['accuracy'] * class_weights[sentiment] \n",
    "                          for sentiment, metrics in all_metrics.items())\n",
    "    \n",
    "    print(\"\\nWeighted Metrics:\")\n",
    "    print(f\"Weighted Precision: {weighted_precision:.3f}\")\n",
    "    print(f\"Weighted Recall: {weighted_recall:.3f}\") \n",
    "    print(f\"Weighted F1 Score: {weighted_f1:.3f}\")\n",
    "    print(f\"Weighted Accuracy: {weighted_accuracy:.3f}\")\n",
    "    \n",
    "    return all_metrics\n",
    "\n",
    "# Usage example:\n",
    "metrics = print_all_metrics(amazon_reviews_resolved)"
   ]
  },
  {
   "cell_type": "code",
   "execution_count": null,
   "metadata": {},
   "outputs": [],
   "source": []
  }
 ],
 "metadata": {
  "kernelspec": {
   "display_name": "llm_venv",
   "language": "python",
   "name": "python3"
  },
  "language_info": {
   "codemirror_mode": {
    "name": "ipython",
    "version": 3
   },
   "file_extension": ".py",
   "mimetype": "text/x-python",
   "name": "python",
   "nbconvert_exporter": "python",
   "pygments_lexer": "ipython3",
   "version": "3.11.7"
  }
 },
 "nbformat": 4,
 "nbformat_minor": 2
}
