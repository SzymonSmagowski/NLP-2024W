{
 "cells": [
  {
   "cell_type": "markdown",
   "metadata": {},
   "source": [
    "Evaluation"
   ]
  },
  {
   "cell_type": "code",
   "execution_count": 2,
   "metadata": {},
   "outputs": [
    {
     "name": "stderr",
     "output_type": "stream",
     "text": [
      "c:\\Users\\kaspr\\Documents\\Studia\\IAD2\\NLP-RAG\\nlp_rag_venv\\Lib\\site-packages\\tqdm\\auto.py:21: TqdmWarning: IProgress not found. Please update jupyter and ipywidgets. See https://ipywidgets.readthedocs.io/en/stable/user_install.html\n",
      "  from .autonotebook import tqdm as notebook_tqdm\n"
     ]
    }
   ],
   "source": [
    "import pandas as pd\n",
    "from nltk.translate.bleu_score import sentence_bleu\n",
    "from bert_score import score\n",
    "from rouge_score import rouge_scorer\n",
    "from tqdm import tqdm\n",
    "\n",
    "import matplotlib.pyplot as plt\n",
    "import seaborn as sns\n",
    "import pandas as pd\n",
    "import numpy as np"
   ]
  },
  {
   "cell_type": "code",
   "execution_count": 3,
   "metadata": {},
   "outputs": [],
   "source": [
    "data = pd.read_csv(\"data\\homer_odyssey_eval_results.csv\", sep=\";\")"
   ]
  },
  {
   "cell_type": "code",
   "execution_count": 4,
   "metadata": {},
   "outputs": [],
   "source": [
    "def compute_metrics(data):\n",
    "    bleu_scores = []\n",
    "    bert_precision_scores = []\n",
    "    bert_recall_scores = []\n",
    "    bert_f1_scores = []\n",
    "    rouge_1_scores = []\n",
    "    rouge_2_scores = []\n",
    "    rouge_l_scores = []\n",
    "\n",
    "    rouge = rouge_scorer.RougeScorer(['rouge1', 'rouge2', 'rougeL'], use_stemmer=True)\n",
    "\n",
    "    for _, row in tqdm(data.iterrows()):\n",
    "        reference = [row[\"Answer\"].split()]\n",
    "        candidate = row[\"RAG_output\"].split()\n",
    "        \n",
    "        bleu = sentence_bleu(reference, candidate)\n",
    "        bleu_scores.append(bleu)\n",
    "\n",
    "\n",
    "        rouge_scores = rouge.score(row[\"Answer\"], row[\"RAG_output\"])\n",
    "        rouge_1_scores.append(rouge_scores['rouge1'].fmeasure)\n",
    "        rouge_2_scores.append(rouge_scores['rouge2'].fmeasure)\n",
    "        rouge_l_scores.append(rouge_scores['rougeL'].fmeasure)\n",
    "    \n",
    "    bert_p, bert_r, bert_f1 = score(\n",
    "        data[\"RAG_output\"].tolist(),\n",
    "        data[\"Answer\"].tolist(),\n",
    "        lang=\"en\",\n",
    "        verbose=True\n",
    "    )\n",
    "    \n",
    "    bert_precision_scores = bert_p.tolist()\n",
    "    bert_recall_scores = bert_r.tolist()\n",
    "    bert_f1_scores = bert_f1.tolist()\n",
    "    \n",
    "    data[\"BLEU\"] = bleu_scores\n",
    "    data[\"ROUGE-1\"] = rouge_1_scores\n",
    "    data[\"ROUGE-2\"] = rouge_2_scores\n",
    "    data[\"ROUGE-L\"] = rouge_l_scores\n",
    "    data[\"BERT_Precision\"] = bert_precision_scores\n",
    "    data[\"BERT_Recall\"] = bert_recall_scores\n",
    "    data[\"BERT_F1\"] = bert_f1_scores\n",
    "\n",
    "    return data"
   ]
  },
  {
   "cell_type": "code",
   "execution_count": 5,
   "metadata": {},
   "outputs": [
    {
     "name": "stderr",
     "output_type": "stream",
     "text": [
      "0it [00:00, ?it/s]c:\\Users\\kaspr\\Documents\\Studia\\IAD2\\NLP-RAG\\nlp_rag_venv\\Lib\\site-packages\\nltk\\translate\\bleu_score.py:577: UserWarning: \n",
      "The hypothesis contains 0 counts of 3-gram overlaps.\n",
      "Therefore the BLEU score evaluates to 0, independently of\n",
      "how many N-gram overlaps of lower order it contains.\n",
      "Consider using lower n-gram order or use SmoothingFunction()\n",
      "  warnings.warn(_msg)\n",
      "c:\\Users\\kaspr\\Documents\\Studia\\IAD2\\NLP-RAG\\nlp_rag_venv\\Lib\\site-packages\\nltk\\translate\\bleu_score.py:577: UserWarning: \n",
      "The hypothesis contains 0 counts of 4-gram overlaps.\n",
      "Therefore the BLEU score evaluates to 0, independently of\n",
      "how many N-gram overlaps of lower order it contains.\n",
      "Consider using lower n-gram order or use SmoothingFunction()\n",
      "  warnings.warn(_msg)\n",
      "c:\\Users\\kaspr\\Documents\\Studia\\IAD2\\NLP-RAG\\nlp_rag_venv\\Lib\\site-packages\\nltk\\translate\\bleu_score.py:577: UserWarning: \n",
      "The hypothesis contains 0 counts of 2-gram overlaps.\n",
      "Therefore the BLEU score evaluates to 0, independently of\n",
      "how many N-gram overlaps of lower order it contains.\n",
      "Consider using lower n-gram order or use SmoothingFunction()\n",
      "  warnings.warn(_msg)\n",
      "44it [00:00, 672.50it/s]\n",
      "Some weights of RobertaModel were not initialized from the model checkpoint at roberta-large and are newly initialized: ['roberta.pooler.dense.bias', 'roberta.pooler.dense.weight']\n",
      "You should probably TRAIN this model on a down-stream task to be able to use it for predictions and inference.\n"
     ]
    },
    {
     "name": "stdout",
     "output_type": "stream",
     "text": [
      "calculating scores...\n",
      "computing bert embedding.\n"
     ]
    },
    {
     "name": "stderr",
     "output_type": "stream",
     "text": [
      "100%|██████████| 2/2 [00:21<00:00, 10.90s/it]\n"
     ]
    },
    {
     "name": "stdout",
     "output_type": "stream",
     "text": [
      "computing greedy matching.\n"
     ]
    },
    {
     "name": "stderr",
     "output_type": "stream",
     "text": [
      "100%|██████████| 1/1 [00:00<00:00, 45.20it/s]"
     ]
    },
    {
     "name": "stdout",
     "output_type": "stream",
     "text": [
      "done in 21.83 seconds, 2.02 sentences/sec\n"
     ]
    },
    {
     "name": "stderr",
     "output_type": "stream",
     "text": [
      "\n"
     ]
    }
   ],
   "source": [
    "data_with_metrics = compute_metrics(data)"
   ]
  },
  {
   "cell_type": "code",
   "execution_count": 6,
   "metadata": {},
   "outputs": [],
   "source": [
    "data_with_metrics.to_csv(\"output_with_metrics.csv\", index=False)"
   ]
  },
  {
   "cell_type": "code",
   "execution_count": 7,
   "metadata": {},
   "outputs": [
    {
     "data": {
      "text/html": [
       "<div>\n",
       "<style scoped>\n",
       "    .dataframe tbody tr th:only-of-type {\n",
       "        vertical-align: middle;\n",
       "    }\n",
       "\n",
       "    .dataframe tbody tr th {\n",
       "        vertical-align: top;\n",
       "    }\n",
       "\n",
       "    .dataframe thead th {\n",
       "        text-align: right;\n",
       "    }\n",
       "</style>\n",
       "<table border=\"1\" class=\"dataframe\">\n",
       "  <thead>\n",
       "    <tr style=\"text-align: right;\">\n",
       "      <th></th>\n",
       "      <th>Question</th>\n",
       "      <th>Answer</th>\n",
       "      <th>Book and Passage</th>\n",
       "      <th>RAG_output</th>\n",
       "      <th>RAG_passages</th>\n",
       "      <th>BLEU</th>\n",
       "      <th>ROUGE-1</th>\n",
       "      <th>ROUGE-2</th>\n",
       "      <th>ROUGE-L</th>\n",
       "      <th>BERT_Precision</th>\n",
       "      <th>BERT_Recall</th>\n",
       "      <th>BERT_F1</th>\n",
       "    </tr>\n",
       "  </thead>\n",
       "  <tbody>\n",
       "    <tr>\n",
       "      <th>0</th>\n",
       "      <td>What does Odysseus tell Polyphemus his name is?</td>\n",
       "      <td>Odysseus tells Polyphemus his name is 'Nobody'...</td>\n",
       "      <td>\"Book 9\"</td>\n",
       "      <td>The passage does not mention Odysseus telling...</td>\n",
       "      <td>He began with his victory over the Cicons, and...</td>\n",
       "      <td>3.138916e-155</td>\n",
       "      <td>0.229508</td>\n",
       "      <td>0.135593</td>\n",
       "      <td>0.229508</td>\n",
       "      <td>0.848565</td>\n",
       "      <td>0.883487</td>\n",
       "      <td>0.865674</td>\n",
       "    </tr>\n",
       "    <tr>\n",
       "      <th>1</th>\n",
       "      <td>How do Odysseus and his men escape the Cyclops...</td>\n",
       "      <td>They escape by hiding under the bellies of sheep.</td>\n",
       "      <td>\"Book 9\"</td>\n",
       "      <td>To escape the Cyclops' cave, Odysseus cleverl...</td>\n",
       "      <td>“As he spoke he drove the ram outside, but whe...</td>\n",
       "      <td>2.968603e-155</td>\n",
       "      <td>0.166667</td>\n",
       "      <td>0.034483</td>\n",
       "      <td>0.133333</td>\n",
       "      <td>0.816442</td>\n",
       "      <td>0.882270</td>\n",
       "      <td>0.848080</td>\n",
       "    </tr>\n",
       "    <tr>\n",
       "      <th>2</th>\n",
       "      <td>What happens when Odysseus taunts Polyphemus a...</td>\n",
       "      <td>Polyphemus throws boulders and prays to Poseid...</td>\n",
       "      <td>\"Book 9\"</td>\n",
       "      <td>After Odysseus and his crew escape from Polyp...</td>\n",
       "      <td>Now all the rest, as many as fled from sheer d...</td>\n",
       "      <td>3.285300e-155</td>\n",
       "      <td>0.193548</td>\n",
       "      <td>0.066667</td>\n",
       "      <td>0.161290</td>\n",
       "      <td>0.848917</td>\n",
       "      <td>0.864242</td>\n",
       "      <td>0.856511</td>\n",
       "    </tr>\n",
       "    <tr>\n",
       "      <th>3</th>\n",
       "      <td>What effect does the lotus plant have on Odyss...</td>\n",
       "      <td>The lotus plant makes them forget their desire...</td>\n",
       "      <td>\"Book 9\"</td>\n",
       "      <td>The lotus plant causes Odysseus's men to beco...</td>\n",
       "      <td>When the bright star that heralds the approach...</td>\n",
       "      <td>1.511408e-78</td>\n",
       "      <td>0.264151</td>\n",
       "      <td>0.156863</td>\n",
       "      <td>0.226415</td>\n",
       "      <td>0.867125</td>\n",
       "      <td>0.920502</td>\n",
       "      <td>0.893017</td>\n",
       "    </tr>\n",
       "    <tr>\n",
       "      <th>4</th>\n",
       "      <td>How does Circe transform Odysseus's men?</td>\n",
       "      <td>Circe turns them into swine with a potion.</td>\n",
       "      <td>\"Book 10\"</td>\n",
       "      <td>In the passages, there is no mention of Circe...</td>\n",
       "      <td>He began with his victory over the Cicons, and...</td>\n",
       "      <td>1.000369e-231</td>\n",
       "      <td>0.148148</td>\n",
       "      <td>0.000000</td>\n",
       "      <td>0.148148</td>\n",
       "      <td>0.833977</td>\n",
       "      <td>0.866797</td>\n",
       "      <td>0.850070</td>\n",
       "    </tr>\n",
       "  </tbody>\n",
       "</table>\n",
       "</div>"
      ],
      "text/plain": [
       "                                            Question  \\\n",
       "0    What does Odysseus tell Polyphemus his name is?   \n",
       "1  How do Odysseus and his men escape the Cyclops...   \n",
       "2  What happens when Odysseus taunts Polyphemus a...   \n",
       "3  What effect does the lotus plant have on Odyss...   \n",
       "4           How does Circe transform Odysseus's men?   \n",
       "\n",
       "                                              Answer Book and Passage  \\\n",
       "0  Odysseus tells Polyphemus his name is 'Nobody'...         \"Book 9\"   \n",
       "1  They escape by hiding under the bellies of sheep.         \"Book 9\"   \n",
       "2  Polyphemus throws boulders and prays to Poseid...         \"Book 9\"   \n",
       "3  The lotus plant makes them forget their desire...         \"Book 9\"   \n",
       "4         Circe turns them into swine with a potion.        \"Book 10\"   \n",
       "\n",
       "                                          RAG_output  \\\n",
       "0   The passage does not mention Odysseus telling...   \n",
       "1   To escape the Cyclops' cave, Odysseus cleverl...   \n",
       "2   After Odysseus and his crew escape from Polyp...   \n",
       "3   The lotus plant causes Odysseus's men to beco...   \n",
       "4   In the passages, there is no mention of Circe...   \n",
       "\n",
       "                                        RAG_passages           BLEU   ROUGE-1  \\\n",
       "0  He began with his victory over the Cicons, and...  3.138916e-155  0.229508   \n",
       "1  “As he spoke he drove the ram outside, but whe...  2.968603e-155  0.166667   \n",
       "2  Now all the rest, as many as fled from sheer d...  3.285300e-155  0.193548   \n",
       "3  When the bright star that heralds the approach...   1.511408e-78  0.264151   \n",
       "4  He began with his victory over the Cicons, and...  1.000369e-231  0.148148   \n",
       "\n",
       "    ROUGE-2   ROUGE-L  BERT_Precision  BERT_Recall   BERT_F1  \n",
       "0  0.135593  0.229508        0.848565     0.883487  0.865674  \n",
       "1  0.034483  0.133333        0.816442     0.882270  0.848080  \n",
       "2  0.066667  0.161290        0.848917     0.864242  0.856511  \n",
       "3  0.156863  0.226415        0.867125     0.920502  0.893017  \n",
       "4  0.000000  0.148148        0.833977     0.866797  0.850070  "
      ]
     },
     "execution_count": 7,
     "metadata": {},
     "output_type": "execute_result"
    }
   ],
   "source": [
    "data_with_metrics = pd.read_csv(\"output_with_metrics.csv\")\n",
    "data_with_metrics.head(5)"
   ]
  },
  {
   "cell_type": "code",
   "execution_count": 8,
   "metadata": {},
   "outputs": [],
   "source": [
    "metrics = [\"BLEU\", \"ROUGE-1\", \"ROUGE-2\", \"ROUGE-L\", \"BERT_Precision\", \"BERT_Recall\", \"BERT_F1\"]"
   ]
  },
  {
   "cell_type": "code",
   "execution_count": 9,
   "metadata": {},
   "outputs": [
    {
     "name": "stdout",
     "output_type": "stream",
     "text": [
      "                        Metric      Mean         Median  Standard Deviation\n",
      "BLEU                      BLEU  0.008667  1.811353e-155            0.032798\n",
      "ROUGE-1                ROUGE-1  0.168894   1.498316e-01            0.101888\n",
      "ROUGE-2                ROUGE-2  0.060707   3.724138e-02            0.080910\n",
      "ROUGE-L                ROUGE-L  0.145405   1.272864e-01            0.089545\n",
      "BERT_Precision  BERT_Precision  0.836556   8.355122e-01            0.023842\n",
      "BERT_Recall        BERT_Recall  0.894750   8.917512e-01            0.023182\n",
      "BERT_F1                BERT_F1  0.864550   8.598634e-01            0.021077\n"
     ]
    }
   ],
   "source": [
    "mean_values = data_with_metrics[metrics].mean()\n",
    "median_values = data_with_metrics[metrics].median()\n",
    "std_values = data_with_metrics[metrics].std()\n",
    "\n",
    "# Tworzymy nowy DataFrame z metrykami\n",
    "metrics_df = pd.DataFrame({\n",
    "    'Metric': metrics,\n",
    "    'Mean': mean_values,\n",
    "    'Median': median_values,\n",
    "    'Standard Deviation': std_values\n",
    "})\n",
    "\n",
    "# Wyświetl wynikowy DataFrame\n",
    "print(metrics_df)"
   ]
  },
  {
   "cell_type": "code",
   "execution_count": 10,
   "metadata": {},
   "outputs": [
    {
     "data": {
      "image/png": "[encoded data removed]",
      "text/plain": [
       "<Figure size 1000x600 with 1 Axes>"
      ]
     },
     "metadata": {},
     "output_type": "display_data"
    }
   ],
   "source": [
    "plt.figure(figsize=(10, 6))\n",
    "sns.boxplot(data=data_with_metrics[metrics])\n",
    "plt.title('Boxplot for Quality Metrics - Odyssey')\n",
    "plt.xlabel('Metrics')\n",
    "plt.ylabel('Values')\n",
    "plt.show()"
   ]
  },
  {
   "cell_type": "code",
   "execution_count": 11,
   "metadata": {},
   "outputs": [
    {
     "data": {
      "image/png": "[encoded data removed]",
      "text/plain": [
       "<Figure size 800x500 with 1 Axes>"
      ]
     },
     "metadata": {},
     "output_type": "display_data"
    }
   ],
   "source": [
    "mean_scores = data_with_metrics[metrics].mean()\n",
    "plt.figure(figsize=(8, 5))\n",
    "mean_scores.plot(kind='bar', color='green', alpha=0.8)\n",
    "plt.title('Average Scores for Metrics')\n",
    "plt.ylabel('Average Value')\n",
    "plt.show()"
   ]
  },
  {
   "cell_type": "code",
   "execution_count": 12,
   "metadata": {},
   "outputs": [
    {
     "data": {
      "image/png": "[encoded data removed]",
      "text/plain": [
       "<Figure size 1000x600 with 1 Axes>"
      ]
     },
     "metadata": {},
     "output_type": "display_data"
    }
   ],
   "source": [
    "plt.figure(figsize=(10, 6))\n",
    "sns.histplot(data_with_metrics['BERT_F1'], kde=True, bins=30, color='blue')\n",
    "plt.title('Distribution of BERT-F1 Scores', fontsize=16)\n",
    "plt.xlabel('BERT-F1 Score', fontsize=14)\n",
    "plt.ylabel('Frequency', fontsize=14)\n",
    "plt.grid(axis='y', linestyle='--', alpha=0.7)\n",
    "plt.savefig('bert_f1_distribution_odyssey.png')\n",
    "plt.show()"
   ]
  },
  {
   "cell_type": "code",
   "execution_count": 13,
   "metadata": {},
   "outputs": [],
   "source": [
    "low_threshold = data_with_metrics['BERT_F1'].quantile(0.33)\n",
    "high_threshold = data_with_metrics['BERT_F1'].quantile(0.67)"
   ]
  },
  {
   "cell_type": "code",
   "execution_count": 14,
   "metadata": {},
   "outputs": [],
   "source": [
    "data_with_metrics['Category'] = np.where(data_with_metrics['BERT_F1'] <= low_threshold, 'Low',\n",
    "                            np.where(data_with_metrics['BERT_F1'] >= high_threshold, 'High', 'Medium'))"
   ]
  },
  {
   "cell_type": "code",
   "execution_count": 15,
   "metadata": {},
   "outputs": [
    {
     "name": "stderr",
     "output_type": "stream",
     "text": [
      "C:\\Users\\kaspr\\AppData\\Local\\Temp\\ipykernel_23316\\3500796642.py:1: DeprecationWarning: DataFrameGroupBy.apply operated on the grouping columns. This behavior is deprecated, and in a future version of pandas the grouping columns will be excluded from the operation. Either pass `include_groups=False` to exclude the groupings or explicitly select the grouping columns after groupby to silence this warning.\n",
      "  random_samples = data_with_metrics.groupby('Category').apply(lambda x: x.sample(5, random_state=42))\n"
     ]
    }
   ],
   "source": [
    "random_samples = data_with_metrics.groupby('Category').apply(lambda x: x.sample(5, random_state=42))\n",
    "random_samples.reset_index(drop=True, inplace=True)"
   ]
  },
  {
   "cell_type": "code",
   "execution_count": 16,
   "metadata": {},
   "outputs": [],
   "source": [
    "random_samples.to_csv('data/random_samples.csv', index=False)"
   ]
  },
  {
   "cell_type": "code",
   "execution_count": 17,
   "metadata": {},
   "outputs": [],
   "source": [
    "highest_scores = data_with_metrics.nlargest(5, 'BERT_F1')[['Question', 'Answer', 'RAG_output', 'BERT_F1']]\n",
    "lowest_scores = data_with_metrics.nsmallest(5, 'BERT_F1')[['Question', 'Answer', 'RAG_output', 'BERT_F1']]\n",
    "\n",
    "highest_scores.to_csv('data/highest_scores_examples.csv', index=False)\n",
    "lowest_scores.to_csv('data/lowest_scores_examples.csv', index=False, sep=\";\")"
   ]
  },
  {
   "cell_type": "code",
   "execution_count": 18,
   "metadata": {},
   "outputs": [
    {
     "data": {
      "text/html": [
       "<div>\n",
       "<style scoped>\n",
       "    .dataframe tbody tr th:only-of-type {\n",
       "        vertical-align: middle;\n",
       "    }\n",
       "\n",
       "    .dataframe tbody tr th {\n",
       "        vertical-align: top;\n",
       "    }\n",
       "\n",
       "    .dataframe thead th {\n",
       "        text-align: right;\n",
       "    }\n",
       "</style>\n",
       "<table border=\"1\" class=\"dataframe\">\n",
       "  <thead>\n",
       "    <tr style=\"text-align: right;\">\n",
       "      <th></th>\n",
       "      <th>Question</th>\n",
       "      <th>Answer</th>\n",
       "      <th>RAG_output</th>\n",
       "      <th>BERT_F1</th>\n",
       "    </tr>\n",
       "  </thead>\n",
       "  <tbody>\n",
       "    <tr>\n",
       "      <th>22</th>\n",
       "      <td>How does Nausicaa help Odysseus?</td>\n",
       "      <td>Nausicaa provides Odysseus with clothing and d...</td>\n",
       "      <td>Nausicaa helps Odysseus by getting him to her...</td>\n",
       "      <td>0.913776</td>\n",
       "    </tr>\n",
       "    <tr>\n",
       "      <th>11</th>\n",
       "      <td>How long does Odysseus stay on Calypso's island?</td>\n",
       "      <td>Odysseus stays on Calypso's island for seven y...</td>\n",
       "      <td>According to Odysseus' account, he stayed on ...</td>\n",
       "      <td>0.910162</td>\n",
       "    </tr>\n",
       "    <tr>\n",
       "      <th>14</th>\n",
       "      <td>What contest does Penelope propose to the suit...</td>\n",
       "      <td>Penelope proposes a contest to string Odysseus...</td>\n",
       "      <td>To win Penelope's hand in marriage, the suito...</td>\n",
       "      <td>0.897125</td>\n",
       "    </tr>\n",
       "    <tr>\n",
       "      <th>36</th>\n",
       "      <td>How does Odysseus handle the challenge of the ...</td>\n",
       "      <td>The Laestrygonians destroy all of Odysseus's s...</td>\n",
       "      <td>Odysseus escapes the Laestrygonians by cuttin...</td>\n",
       "      <td>0.894324</td>\n",
       "    </tr>\n",
       "    <tr>\n",
       "      <th>3</th>\n",
       "      <td>What effect does the lotus plant have on Odyss...</td>\n",
       "      <td>The lotus plant makes them forget their desire...</td>\n",
       "      <td>The lotus plant causes Odysseus's men to beco...</td>\n",
       "      <td>0.893017</td>\n",
       "    </tr>\n",
       "  </tbody>\n",
       "</table>\n",
       "</div>"
      ],
      "text/plain": [
       "                                             Question  \\\n",
       "22                   How does Nausicaa help Odysseus?   \n",
       "11   How long does Odysseus stay on Calypso's island?   \n",
       "14  What contest does Penelope propose to the suit...   \n",
       "36  How does Odysseus handle the challenge of the ...   \n",
       "3   What effect does the lotus plant have on Odyss...   \n",
       "\n",
       "                                               Answer  \\\n",
       "22  Nausicaa provides Odysseus with clothing and d...   \n",
       "11  Odysseus stays on Calypso's island for seven y...   \n",
       "14  Penelope proposes a contest to string Odysseus...   \n",
       "36  The Laestrygonians destroy all of Odysseus's s...   \n",
       "3   The lotus plant makes them forget their desire...   \n",
       "\n",
       "                                           RAG_output   BERT_F1  \n",
       "22   Nausicaa helps Odysseus by getting him to her...  0.913776  \n",
       "11   According to Odysseus' account, he stayed on ...  0.910162  \n",
       "14   To win Penelope's hand in marriage, the suito...  0.897125  \n",
       "36   Odysseus escapes the Laestrygonians by cuttin...  0.894324  \n",
       "3    The lotus plant causes Odysseus's men to beco...  0.893017  "
      ]
     },
     "execution_count": 18,
     "metadata": {},
     "output_type": "execute_result"
    }
   ],
   "source": [
    "highest_scores"
   ]
  },
  {
   "cell_type": "code",
   "execution_count": 20,
   "metadata": {},
   "outputs": [
    {
     "data": {
      "text/html": [
       "<div>\n",
       "<style scoped>\n",
       "    .dataframe tbody tr th:only-of-type {\n",
       "        vertical-align: middle;\n",
       "    }\n",
       "\n",
       "    .dataframe tbody tr th {\n",
       "        vertical-align: top;\n",
       "    }\n",
       "\n",
       "    .dataframe thead th {\n",
       "        text-align: right;\n",
       "    }\n",
       "</style>\n",
       "<table border=\"1\" class=\"dataframe\">\n",
       "  <thead>\n",
       "    <tr style=\"text-align: right;\">\n",
       "      <th></th>\n",
       "      <th>Question</th>\n",
       "      <th>Answer</th>\n",
       "      <th>RAG_output</th>\n",
       "      <th>BERT_F1</th>\n",
       "    </tr>\n",
       "  </thead>\n",
       "  <tbody>\n",
       "    <tr>\n",
       "      <th>43</th>\n",
       "      <td>How does Odysseus handle the suitors' families...</td>\n",
       "      <td>Athena intervenes to prevent further conflict ...</td>\n",
       "      <td>Based on the provided passages, there is no m...</td>\n",
       "      <td>0.823925</td>\n",
       "    </tr>\n",
       "    <tr>\n",
       "      <th>6</th>\n",
       "      <td>What does Tiresias warn Odysseus about in the ...</td>\n",
       "      <td>Tiresias warns him not to harm the cattle of H...</td>\n",
       "      <td>The provided passages do not contain informat...</td>\n",
       "      <td>0.827162</td>\n",
       "    </tr>\n",
       "    <tr>\n",
       "      <th>29</th>\n",
       "      <td>What is the fate of the Phaeacian ship that br...</td>\n",
       "      <td>Poseidon turns the ship into stone as punishment.</td>\n",
       "      <td>The Phaeacian ship that brings Odysseus home ...</td>\n",
       "      <td>0.836470</td>\n",
       "    </tr>\n",
       "    <tr>\n",
       "      <th>27</th>\n",
       "      <td>What is the omen that confirms Odysseus's retu...</td>\n",
       "      <td>An eagle carrying a dead goose appears as an o...</td>\n",
       "      <td>Based on the passage, the omen confirming Ody...</td>\n",
       "      <td>0.839751</td>\n",
       "    </tr>\n",
       "    <tr>\n",
       "      <th>40</th>\n",
       "      <td>What is the significance of the olive tree bed?</td>\n",
       "      <td>The bed is a symbol of Odysseus and Penelope's...</td>\n",
       "      <td>The significance of the olive tree bed is tha...</td>\n",
       "      <td>0.839778</td>\n",
       "    </tr>\n",
       "  </tbody>\n",
       "</table>\n",
       "</div>"
      ],
      "text/plain": [
       "                                             Question  \\\n",
       "43  How does Odysseus handle the suitors' families...   \n",
       "6   What does Tiresias warn Odysseus about in the ...   \n",
       "29  What is the fate of the Phaeacian ship that br...   \n",
       "27  What is the omen that confirms Odysseus's retu...   \n",
       "40    What is the significance of the olive tree bed?   \n",
       "\n",
       "                                               Answer  \\\n",
       "43  Athena intervenes to prevent further conflict ...   \n",
       "6   Tiresias warns him not to harm the cattle of H...   \n",
       "29  Poseidon turns the ship into stone as punishment.   \n",
       "27  An eagle carrying a dead goose appears as an o...   \n",
       "40  The bed is a symbol of Odysseus and Penelope's...   \n",
       "\n",
       "                                           RAG_output   BERT_F1  \n",
       "43   Based on the provided passages, there is no m...  0.823925  \n",
       "6    The provided passages do not contain informat...  0.827162  \n",
       "29   The Phaeacian ship that brings Odysseus home ...  0.836470  \n",
       "27   Based on the passage, the omen confirming Ody...  0.839751  \n",
       "40   The significance of the olive tree bed is tha...  0.839778  "
      ]
     },
     "execution_count": 20,
     "metadata": {},
     "output_type": "execute_result"
    }
   ],
   "source": [
    "lowest_scores"
   ]
  }
 ],
 "metadata": {
  "kernelspec": {
   "display_name": "nlp_rag_venv",
   "language": "python",
   "name": "python3"
  },
  "language_info": {
   "codemirror_mode": {
    "name": "ipython",
    "version": 3
   },
   "file_extension": ".py",
   "mimetype": "text/x-python",
   "name": "python",
   "nbconvert_exporter": "python",
   "pygments_lexer": "ipython3",
   "version": "3.11.2"
  }
 },
 "nbformat": 4,
 "nbformat_minor": 2
}
