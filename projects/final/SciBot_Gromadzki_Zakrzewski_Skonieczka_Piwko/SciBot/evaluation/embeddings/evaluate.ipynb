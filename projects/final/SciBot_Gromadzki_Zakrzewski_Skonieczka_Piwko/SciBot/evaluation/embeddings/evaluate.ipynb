{
 "cells": [
  {
   "cell_type": "code",
   "execution_count": 1,
   "metadata": {},
   "outputs": [
    {
     "name": "stderr",
     "output_type": "stream",
     "text": [
      "c:\\Users\\jakub\\OneDrive\\Desktop\\PW\\Natural Language Processing\\SciBot\\.venv\\Lib\\site-packages\\tqdm\\auto.py:21: TqdmWarning: IProgress not found. Please update jupyter and ipywidgets. See https://ipywidgets.readthedocs.io/en/stable/user_install.html\n",
      "  from .autonotebook import tqdm as notebook_tqdm\n"
     ]
    }
   ],
   "source": [
    "import os\n",
    "import json\n",
    "import pandas as pd\n",
    "import numpy as np\n",
    "from tqdm.contrib import tzip\n",
    "from typing import List, Dict, Tuple, Union\n",
    "from langchain_ollama import OllamaEmbeddings\n",
    "from langchain_community.embeddings import HuggingFaceInstructEmbeddings\n",
    "from langchain_core.documents import Document\n",
    "from langchain_community.vectorstores import FAISS"
   ]
  },
  {
   "cell_type": "code",
   "execution_count": 2,
   "metadata": {},
   "outputs": [],
   "source": [
    "def hit(found, corr):\n",
    "    for item in found:\n",
    "        if item == corr:\n",
    "            return 1\n",
    "    return 0\n",
    "\n",
    "\n",
    "def mrr_f(found, corr):\n",
    "    for pos, item in enumerate(found):\n",
    "        if item == corr:\n",
    "            return 1 / (pos + 1)\n",
    "    return 0\n",
    "\n",
    "\n",
    "def dcg(found, corr, num_relevant, k):\n",
    "    total = 0\n",
    "    idcg = sum([1 / np.log2(i + 2) for i in range(min(num_relevant, k))])\n",
    "    for pos, item in enumerate(found):\n",
    "        total += 1 / np.log2(pos + 2) if item == corr else 0\n",
    "    return total / idcg\n",
    "\n",
    "\n",
    "def avg_prec(found, corr, num_relevant):\n",
    "    total = 0\n",
    "    for i in range(1, len(found) + 1):\n",
    "        subset = found[:i]\n",
    "        cnt = 0\n",
    "        for item in subset:\n",
    "            if item == corr:\n",
    "                cnt += 1\n",
    "        if subset[-1] == corr:\n",
    "            total += cnt / len(subset)\n",
    "    return total / num_relevant"
   ]
  },
  {
   "cell_type": "code",
   "execution_count": 3,
   "metadata": {},
   "outputs": [],
   "source": [
    "def get_metrics(\n",
    "    path: str,\n",
    "    embeddings: Union[OllamaEmbeddings, HuggingFaceInstructEmbeddings],\n",
    "    texts: List[str],\n",
    "    metadatas: List[Dict],\n",
    "    num_relevant: int = 1,\n",
    "    k: int = 4,\n",
    ") -> Tuple[float]:\n",
    "    \"\"\"\n",
    "    Calculates hit rate @ 4 and MRR for given queries.\n",
    "    Input:\n",
    "        db (str) : Path to saved vectorstore\n",
    "        embeddings (str) : Embeddings object\n",
    "        texts (List) : Text of thr queries\n",
    "        metadatas (List) : Metadata of the queries, used to find matching documents in db\n",
    "        num_relevant (int) : Number of relevant items in vdb\n",
    "        k (int) : Number of retrieved documents\n",
    "    \"\"\"\n",
    "    db = FAISS.load_local(\n",
    "        folder_path=path,\n",
    "        index_name=\"faiss_index\",\n",
    "        embeddings=embeddings,\n",
    "        allow_dangerous_deserialization=True,\n",
    "    )\n",
    "\n",
    "    hit_rates = []\n",
    "    mrr_scores = []\n",
    "    ndcg_scores = []\n",
    "    prec_scores = []\n",
    "    for text, md in tzip(texts, metadatas):\n",
    "        try:\n",
    "            vec = embeddings.embed_documents([text])[0]\n",
    "            found = db.similarity_search_by_vector(vec, k=k)\n",
    "            # take the metadata from found documents, as the metadata of the modified document (query) is the same as the metadata of the base document (in db)\n",
    "            # if we find it in the the mds list it means that one of the found documents is the base one which was used to create the modfied document\n",
    "            mds = [doc.metadata for doc in found]\n",
    "            hit_rates.append(hit(mds, md))\n",
    "            mrr_scores.append(mrr_f(mds, md))\n",
    "            prec_scores.append(avg_prec(mds, md, num_relevant))\n",
    "            ndcg_scores.append(dcg(mds, md, num_relevant, k))\n",
    "        except:\n",
    "            pass\n",
    "\n",
    "    return (\n",
    "        np.mean(hit_rates),\n",
    "        np.mean(mrr_scores),\n",
    "        np.mean(prec_scores),\n",
    "        np.mean(ndcg_scores),\n",
    "    )"
   ]
  },
  {
   "cell_type": "code",
   "execution_count": 4,
   "metadata": {},
   "outputs": [],
   "source": [
    "def load_document_from_json(filename):\n",
    "    with open(filename, \"r\", encoding=\"utf-8\") as f:\n",
    "        doc_data = json.load(f)\n",
    "    return Document(page_content=doc_data[\"page_content\"], metadata=doc_data[\"metadata\"])"
   ]
  },
  {
   "cell_type": "code",
   "execution_count": 5,
   "metadata": {},
   "outputs": [],
   "source": [
    "folder_path = \"../../data/mod\"\n",
    "docs = []\n",
    "for filename in os.listdir(folder_path):\n",
    "    if filename.endswith(\".json\"):\n",
    "        doc = load_document_from_json(os.path.join(folder_path, filename))\n",
    "        docs.append(doc)"
   ]
  },
  {
   "cell_type": "code",
   "execution_count": 6,
   "metadata": {},
   "outputs": [
    {
     "data": {
      "text/plain": [
       "(100, 100)"
      ]
     },
     "execution_count": 6,
     "metadata": {},
     "output_type": "execute_result"
    }
   ],
   "source": [
    "texts = [doc.page_content for doc in docs]\n",
    "metadatas = [doc.metadata for doc in docs]\n",
    "len(texts), len(metadatas)"
   ]
  },
  {
   "cell_type": "code",
   "execution_count": 7,
   "metadata": {},
   "outputs": [],
   "source": [
    "url = \"http://localhost:11434\"\n",
    "results = []"
   ]
  },
  {
   "cell_type": "code",
   "execution_count": 8,
   "metadata": {},
   "outputs": [
    {
     "name": "stderr",
     "output_type": "stream",
     "text": [
      "100%|██████████| 100/100 [00:43<00:00,  2.30it/s]\n"
     ]
    }
   ],
   "source": [
    "embeddings = OllamaEmbeddings(base_url=url, model=\"snowflake-arctic-embed:latest\")\n",
    "hit_rate, mrr, map, ndcg = get_metrics(\"../../data/dbs/db_snowflake\", embeddings, texts, metadatas, num_relevant=1, k=4)\n",
    "results.append([\"snowflake\", hit_rate, mrr, map, ndcg])"
   ]
  },
  {
   "cell_type": "code",
   "execution_count": 9,
   "metadata": {},
   "outputs": [
    {
     "name": "stderr",
     "output_type": "stream",
     "text": [
      "100%|██████████| 100/100 [00:09<00:00, 10.73it/s]\n"
     ]
    }
   ],
   "source": [
    "embeddings = OllamaEmbeddings(base_url=url, model=\"mxbai-embed-large:latest\")\n",
    "hit_rate, mrr, map, ndcg = get_metrics(\"../../data/dbs/db_mxbai\", embeddings, texts, metadatas, num_relevant=1, k=4)\n",
    "results.append([\"mxbai\", hit_rate, mrr, map, ndcg])"
   ]
  },
  {
   "cell_type": "code",
   "execution_count": 10,
   "metadata": {},
   "outputs": [
    {
     "name": "stderr",
     "output_type": "stream",
     "text": [
      "100%|██████████| 100/100 [00:07<00:00, 13.79it/s]\n"
     ]
    }
   ],
   "source": [
    "embeddings = OllamaEmbeddings(base_url=url, model=\"nomic-embed-text:latest\")\n",
    "hit_rate, mrr, map, ndcg = get_metrics(\"../../data/dbs/db_nomic\", embeddings, texts, metadatas, num_relevant=1, k=4)\n",
    "results.append([\"nomic\", hit_rate, mrr, map, ndcg])"
   ]
  },
  {
   "cell_type": "code",
   "execution_count": null,
   "metadata": {},
   "outputs": [],
   "source": [
    "device = \"cuda\"\n",
    "embeddings = HuggingFaceInstructEmbeddings(\n",
    "    model_name=\"hkunlp/instructor-xl\", model_kwargs={\"device\": device}\n",
    ")\n",
    "hit_rate, mrr, map, ndcg = get_metrics(\"../../data/dbs/db_instructor\", embeddings, texts, metadatas, num_relevant=1, k=4)\n",
    "results.append([\"instructorxl\", hit_rate, mrr, map, ndcg])"
   ]
  },
  {
   "cell_type": "code",
   "execution_count": 13,
   "metadata": {},
   "outputs": [
    {
     "data": {
      "text/html": [
       "<div>\n",
       "<style scoped>\n",
       "    .dataframe tbody tr th:only-of-type {\n",
       "        vertical-align: middle;\n",
       "    }\n",
       "\n",
       "    .dataframe tbody tr th {\n",
       "        vertical-align: top;\n",
       "    }\n",
       "\n",
       "    .dataframe thead th {\n",
       "        text-align: right;\n",
       "    }\n",
       "</style>\n",
       "<table border=\"1\" class=\"dataframe\">\n",
       "  <thead>\n",
       "    <tr style=\"text-align: right;\">\n",
       "      <th></th>\n",
       "      <th>model</th>\n",
       "      <th>hit_rate</th>\n",
       "      <th>mrr</th>\n",
       "      <th>map</th>\n",
       "      <th>ndcg</th>\n",
       "    </tr>\n",
       "  </thead>\n",
       "  <tbody>\n",
       "    <tr>\n",
       "      <th>0</th>\n",
       "      <td>snowflake</td>\n",
       "      <td>0.978723</td>\n",
       "      <td>0.968085</td>\n",
       "      <td>0.968085</td>\n",
       "      <td>0.970871</td>\n",
       "    </tr>\n",
       "    <tr>\n",
       "      <th>1</th>\n",
       "      <td>mxbai</td>\n",
       "      <td>0.970000</td>\n",
       "      <td>0.929167</td>\n",
       "      <td>0.929167</td>\n",
       "      <td>0.939544</td>\n",
       "    </tr>\n",
       "    <tr>\n",
       "      <th>2</th>\n",
       "      <td>nomic</td>\n",
       "      <td>0.930000</td>\n",
       "      <td>0.901667</td>\n",
       "      <td>0.901667</td>\n",
       "      <td>0.908614</td>\n",
       "    </tr>\n",
       "    <tr>\n",
       "      <th>3</th>\n",
       "      <td>instructorxl</td>\n",
       "      <td>0.940000</td>\n",
       "      <td>0.928333</td>\n",
       "      <td>0.928333</td>\n",
       "      <td>0.931309</td>\n",
       "    </tr>\n",
       "  </tbody>\n",
       "</table>\n",
       "</div>"
      ],
      "text/plain": [
       "          model  hit_rate       mrr       map      ndcg\n",
       "0     snowflake  0.978723  0.968085  0.968085  0.970871\n",
       "1         mxbai  0.970000  0.929167  0.929167  0.939544\n",
       "2         nomic  0.930000  0.901667  0.901667  0.908614\n",
       "3  instructorxl  0.940000  0.928333  0.928333  0.931309"
      ]
     },
     "execution_count": 13,
     "metadata": {},
     "output_type": "execute_result"
    }
   ],
   "source": [
    "df = pd.DataFrame(results, columns=[\"model\", \"hit_rate\", \"mrr\", \"map\", \"ndcg\"])\n",
    "df"
   ]
  },
  {
   "cell_type": "code",
   "execution_count": 14,
   "metadata": {},
   "outputs": [],
   "source": [
    "df.to_csv(\"../../data/results/embeddings.csv\", index=False)"
   ]
  },
  {
   "cell_type": "code",
   "execution_count": 18,
   "metadata": {},
   "outputs": [
    {
     "data": {
      "image/png": "[encoded data removed]",
      "text/plain": [
       "<Figure size 2000x500 with 4 Axes>"
      ]
     },
     "metadata": {},
     "output_type": "display_data"
    }
   ],
   "source": [
    "import matplotlib.pyplot as plt\n",
    "fig, axes = plt.subplots(1, 4, figsize=(20, 5), sharey=True)\n",
    "metrics = ['hit_rate', 'mrr', 'map', 'ndcg']\n",
    "colors = ['skyblue', 'salmon', 'lightgreen', 'orchid']\n",
    "\n",
    "# Create a bar plot for each metric\n",
    "for i, metric in enumerate(metrics):\n",
    "    axes[i].bar(df['model'], df[metric], color=colors[i])\n",
    "    axes[i].set_title(metric)\n",
    "    axes[i].set_ylim(0.8, 1)  # Set y-axis limits for better comparison\n",
    "    axes[i].set_xlabel('Model')\n",
    "    axes[i].set_ylabel('Score')\n",
    "\n",
    "plt.tight_layout()\n",
    "plt.show()"
   ]
  },
  {
   "cell_type": "code",
   "execution_count": null,
   "metadata": {},
   "outputs": [],
   "source": []
  },
  {
   "cell_type": "code",
   "execution_count": null,
   "metadata": {},
   "outputs": [],
   "source": []
  },
  {
   "cell_type": "code",
   "execution_count": null,
   "metadata": {},
   "outputs": [],
   "source": []
  }
 ],
 "metadata": {
  "kernelspec": {
   "display_name": ".venv",
   "language": "python",
   "name": "python3"
  },
  "language_info": {
   "codemirror_mode": {
    "name": "ipython",
    "version": 3
   },
   "file_extension": ".py",
   "mimetype": "text/x-python",
   "name": "python",
   "nbconvert_exporter": "python",
   "pygments_lexer": "ipython3",
   "version": "3.12.7"
  }
 },
 "nbformat": 4,
 "nbformat_minor": 2
}
